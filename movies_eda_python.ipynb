{
 "cells": [
  {
   "cell_type": "markdown",
   "id": "f805cff5-cdec-4dfc-b45d-da3316f68f6e",
   "metadata": {},
   "source": [
    "**Import needed libraries**"
   ]
  },
  {
   "cell_type": "code",
   "execution_count": 1,
   "id": "5c6298db-ae6f-4186-a3a7-718d8aa3c216",
   "metadata": {},
   "outputs": [],
   "source": [
    "import warnings\n",
    "warnings.filterwarnings(\"ignore\", category=FutureWarning)"
   ]
  },
  {
   "cell_type": "code",
   "execution_count": 2,
   "id": "c0df5834-e126-450b-bddf-289252bacb3c",
   "metadata": {},
   "outputs": [],
   "source": [
    "import pandas as pd\n",
    "import numpy as np\n",
    "import matplotlib.pyplot as plt\n",
    "import seaborn as sns\n",
    "import requests\n",
    "import cpi\n",
    "import miceforest as mf\n",
    "from matplotlib.ticker import NullFormatter\n",
    "from bs4 import BeautifulSoup\n",
    "from scipy.stats import chi2\n",
    "from statsmodels.stats.outliers_influence import variance_inflation_factor"
   ]
  },
  {
   "cell_type": "code",
   "execution_count": 3,
   "id": "92a79e4b-a6d9-48f1-ac0d-01e8bc30e3c6",
   "metadata": {},
   "outputs": [],
   "source": [
    "# uncomment this procedure call if the cpi library returns a warning about its data being out of date\n",
    "#cpi.update()"
   ]
  },
  {
   "cell_type": "markdown",
   "id": "5de535cf-48fa-4711-8c05-2c85f9f79bbb",
   "metadata": {},
   "source": [
    "**Use '%matplotlib inline', to display and store the plots within Jupyter Notebook**"
   ]
  },
  {
   "cell_type": "code",
   "execution_count": 4,
   "id": "ebf9c84b-e33e-456d-b2bb-6c93a94539e8",
   "metadata": {},
   "outputs": [],
   "source": [
    "%matplotlib inline"
   ]
  },
  {
   "cell_type": "markdown",
   "id": "9811fde8-17e5-4a01-866b-b3f6a34b11b9",
   "metadata": {},
   "source": [
    "**Set the theme to 'ggplot'**"
   ]
  },
  {
   "cell_type": "code",
   "execution_count": 5,
   "id": "30a26ff8-25bb-4846-8a25-445c507345b5",
   "metadata": {},
   "outputs": [],
   "source": [
    "plt.style.use(\"ggplot\")"
   ]
  },
  {
   "cell_type": "markdown",
   "id": "c4eec6fa-727a-4656-8bdc-19d31ea2fa80",
   "metadata": {},
   "source": [
    "**Suppress Scientific Notation**"
   ]
  },
  {
   "cell_type": "code",
   "execution_count": 6,
   "id": "069abed7-baca-4928-afa5-059706a2f391",
   "metadata": {},
   "outputs": [],
   "source": [
    "pd.set_option('display.float_format', lambda x: f'{x:.2f}')"
   ]
  },
  {
   "cell_type": "markdown",
   "id": "723845de-28c0-402e-87c2-f6709912073e",
   "metadata": {},
   "source": [
    "**Load the movies dataset using 'read_csv' and create a DataFrame**"
   ]
  },
  {
   "cell_type": "code",
   "execution_count": 7,
   "id": "0c1562e3-7213-43b8-acfc-5c29f29836ef",
   "metadata": {},
   "outputs": [],
   "source": [
    "df_movies = pd.read_csv(\"movies.csv\")"
   ]
  },
  {
   "cell_type": "markdown",
   "id": "e8d0aea8-19dd-4081-b110-ec523364f33a",
   "metadata": {},
   "source": [
    "**Display all rows and columns of the DataFrame**"
   ]
  },
  {
   "cell_type": "code",
   "execution_count": 8,
   "id": "1ff9f94a-3f6b-4b55-93d3-8633daeac47d",
   "metadata": {},
   "outputs": [],
   "source": [
    "pd.set_option(\"display.max_rows\", None, \"display.max_columns\", None)"
   ]
  },
  {
   "cell_type": "markdown",
   "id": "d73f4dc3-ce8e-449f-b659-6ded1a46b58e",
   "metadata": {},
   "source": [
    "**Check the DataFrame**"
   ]
  },
  {
   "cell_type": "code",
   "execution_count": 9,
   "id": "12eded2e-6223-40fd-9d2e-2d0452c84d97",
   "metadata": {},
   "outputs": [
    {
     "data": {
      "text/html": [
       "<div>\n",
       "<style scoped>\n",
       "    .dataframe tbody tr th:only-of-type {\n",
       "        vertical-align: middle;\n",
       "    }\n",
       "\n",
       "    .dataframe tbody tr th {\n",
       "        vertical-align: top;\n",
       "    }\n",
       "\n",
       "    .dataframe thead th {\n",
       "        text-align: right;\n",
       "    }\n",
       "</style>\n",
       "<table border=\"1\" class=\"dataframe\">\n",
       "  <thead>\n",
       "    <tr style=\"text-align: right;\">\n",
       "      <th></th>\n",
       "      <th>name</th>\n",
       "      <th>rating</th>\n",
       "      <th>genre</th>\n",
       "      <th>year</th>\n",
       "      <th>released</th>\n",
       "      <th>score</th>\n",
       "      <th>votes</th>\n",
       "      <th>director</th>\n",
       "      <th>writer</th>\n",
       "      <th>star</th>\n",
       "      <th>country</th>\n",
       "      <th>budget</th>\n",
       "      <th>gross</th>\n",
       "      <th>company</th>\n",
       "      <th>runtime</th>\n",
       "    </tr>\n",
       "  </thead>\n",
       "  <tbody>\n",
       "    <tr>\n",
       "      <th>0</th>\n",
       "      <td>The Shining</td>\n",
       "      <td>R</td>\n",
       "      <td>Drama</td>\n",
       "      <td>1980</td>\n",
       "      <td>June 13, 1980 (United States)</td>\n",
       "      <td>8.40</td>\n",
       "      <td>927000.00</td>\n",
       "      <td>Stanley Kubrick</td>\n",
       "      <td>Stephen King</td>\n",
       "      <td>Jack Nicholson</td>\n",
       "      <td>United Kingdom</td>\n",
       "      <td>19000000.00</td>\n",
       "      <td>46998772.00</td>\n",
       "      <td>Warner Bros.</td>\n",
       "      <td>146.00</td>\n",
       "    </tr>\n",
       "    <tr>\n",
       "      <th>1</th>\n",
       "      <td>The Blue Lagoon</td>\n",
       "      <td>R</td>\n",
       "      <td>Adventure</td>\n",
       "      <td>1980</td>\n",
       "      <td>July 2, 1980 (United States)</td>\n",
       "      <td>5.80</td>\n",
       "      <td>65000.00</td>\n",
       "      <td>Randal Kleiser</td>\n",
       "      <td>Henry De Vere Stacpoole</td>\n",
       "      <td>Brooke Shields</td>\n",
       "      <td>United States</td>\n",
       "      <td>4500000.00</td>\n",
       "      <td>58853106.00</td>\n",
       "      <td>Columbia Pictures</td>\n",
       "      <td>104.00</td>\n",
       "    </tr>\n",
       "    <tr>\n",
       "      <th>2</th>\n",
       "      <td>Star Wars: Episode V - The Empire Strikes Back</td>\n",
       "      <td>PG</td>\n",
       "      <td>Action</td>\n",
       "      <td>1980</td>\n",
       "      <td>June 20, 1980 (United States)</td>\n",
       "      <td>8.70</td>\n",
       "      <td>1200000.00</td>\n",
       "      <td>Irvin Kershner</td>\n",
       "      <td>Leigh Brackett</td>\n",
       "      <td>Mark Hamill</td>\n",
       "      <td>United States</td>\n",
       "      <td>18000000.00</td>\n",
       "      <td>538375067.00</td>\n",
       "      <td>Lucasfilm</td>\n",
       "      <td>124.00</td>\n",
       "    </tr>\n",
       "    <tr>\n",
       "      <th>3</th>\n",
       "      <td>Airplane!</td>\n",
       "      <td>PG</td>\n",
       "      <td>Comedy</td>\n",
       "      <td>1980</td>\n",
       "      <td>July 2, 1980 (United States)</td>\n",
       "      <td>7.70</td>\n",
       "      <td>221000.00</td>\n",
       "      <td>Jim Abrahams</td>\n",
       "      <td>Jim Abrahams</td>\n",
       "      <td>Robert Hays</td>\n",
       "      <td>United States</td>\n",
       "      <td>3500000.00</td>\n",
       "      <td>83453539.00</td>\n",
       "      <td>Paramount Pictures</td>\n",
       "      <td>88.00</td>\n",
       "    </tr>\n",
       "    <tr>\n",
       "      <th>4</th>\n",
       "      <td>Caddyshack</td>\n",
       "      <td>R</td>\n",
       "      <td>Comedy</td>\n",
       "      <td>1980</td>\n",
       "      <td>July 25, 1980 (United States)</td>\n",
       "      <td>7.30</td>\n",
       "      <td>108000.00</td>\n",
       "      <td>Harold Ramis</td>\n",
       "      <td>Brian Doyle-Murray</td>\n",
       "      <td>Chevy Chase</td>\n",
       "      <td>United States</td>\n",
       "      <td>6000000.00</td>\n",
       "      <td>39846344.00</td>\n",
       "      <td>Orion Pictures</td>\n",
       "      <td>98.00</td>\n",
       "    </tr>\n",
       "  </tbody>\n",
       "</table>\n",
       "</div>"
      ],
      "text/plain": [
       "                                             name rating      genre  year  \\\n",
       "0                                     The Shining      R      Drama  1980   \n",
       "1                                 The Blue Lagoon      R  Adventure  1980   \n",
       "2  Star Wars: Episode V - The Empire Strikes Back     PG     Action  1980   \n",
       "3                                       Airplane!     PG     Comedy  1980   \n",
       "4                                      Caddyshack      R     Comedy  1980   \n",
       "\n",
       "                        released  score      votes         director  \\\n",
       "0  June 13, 1980 (United States)   8.40  927000.00  Stanley Kubrick   \n",
       "1   July 2, 1980 (United States)   5.80   65000.00   Randal Kleiser   \n",
       "2  June 20, 1980 (United States)   8.70 1200000.00   Irvin Kershner   \n",
       "3   July 2, 1980 (United States)   7.70  221000.00     Jim Abrahams   \n",
       "4  July 25, 1980 (United States)   7.30  108000.00     Harold Ramis   \n",
       "\n",
       "                    writer            star         country      budget  \\\n",
       "0             Stephen King  Jack Nicholson  United Kingdom 19000000.00   \n",
       "1  Henry De Vere Stacpoole  Brooke Shields   United States  4500000.00   \n",
       "2           Leigh Brackett     Mark Hamill   United States 18000000.00   \n",
       "3             Jim Abrahams     Robert Hays   United States  3500000.00   \n",
       "4       Brian Doyle-Murray     Chevy Chase   United States  6000000.00   \n",
       "\n",
       "         gross             company  runtime  \n",
       "0  46998772.00        Warner Bros.   146.00  \n",
       "1  58853106.00   Columbia Pictures   104.00  \n",
       "2 538375067.00           Lucasfilm   124.00  \n",
       "3  83453539.00  Paramount Pictures    88.00  \n",
       "4  39846344.00      Orion Pictures    98.00  "
      ]
     },
     "execution_count": 9,
     "metadata": {},
     "output_type": "execute_result"
    }
   ],
   "source": [
    "df_movies.head()"
   ]
  },
  {
   "cell_type": "markdown",
   "id": "e02a21c2-22da-41e0-8372-d9f88bbc6fa0",
   "metadata": {},
   "source": [
    "**Check for duplicate records**"
   ]
  },
  {
   "cell_type": "code",
   "execution_count": 10,
   "id": "e11238b5-0c91-4993-91f3-7edaaa6532b7",
   "metadata": {},
   "outputs": [
    {
     "data": {
      "text/html": [
       "<div>\n",
       "<style scoped>\n",
       "    .dataframe tbody tr th:only-of-type {\n",
       "        vertical-align: middle;\n",
       "    }\n",
       "\n",
       "    .dataframe tbody tr th {\n",
       "        vertical-align: top;\n",
       "    }\n",
       "\n",
       "    .dataframe thead th {\n",
       "        text-align: right;\n",
       "    }\n",
       "</style>\n",
       "<table border=\"1\" class=\"dataframe\">\n",
       "  <thead>\n",
       "    <tr style=\"text-align: right;\">\n",
       "      <th></th>\n",
       "      <th>name</th>\n",
       "      <th>rating</th>\n",
       "      <th>genre</th>\n",
       "      <th>year</th>\n",
       "      <th>released</th>\n",
       "      <th>score</th>\n",
       "      <th>votes</th>\n",
       "      <th>director</th>\n",
       "      <th>writer</th>\n",
       "      <th>star</th>\n",
       "      <th>country</th>\n",
       "      <th>budget</th>\n",
       "      <th>gross</th>\n",
       "      <th>company</th>\n",
       "      <th>runtime</th>\n",
       "    </tr>\n",
       "  </thead>\n",
       "  <tbody>\n",
       "  </tbody>\n",
       "</table>\n",
       "</div>"
      ],
      "text/plain": [
       "Empty DataFrame\n",
       "Columns: [name, rating, genre, year, released, score, votes, director, writer, star, country, budget, gross, company, runtime]\n",
       "Index: []"
      ]
     },
     "execution_count": 10,
     "metadata": {},
     "output_type": "execute_result"
    }
   ],
   "source": [
    "df_movies[df_movies.duplicated()]"
   ]
  },
  {
   "cell_type": "markdown",
   "id": "f2a0b1f1-15c0-4006-9201-62adbeccd3aa",
   "metadata": {},
   "source": [
    "**Use 'info()' for more information on the DataFrame**"
   ]
  },
  {
   "cell_type": "code",
   "execution_count": 11,
   "id": "1c9a7313-39f1-49d4-9ce2-aaa71dfe37de",
   "metadata": {},
   "outputs": [
    {
     "name": "stdout",
     "output_type": "stream",
     "text": [
      "<class 'pandas.core.frame.DataFrame'>\n",
      "RangeIndex: 7668 entries, 0 to 7667\n",
      "Data columns (total 15 columns):\n",
      " #   Column    Non-Null Count  Dtype  \n",
      "---  ------    --------------  -----  \n",
      " 0   name      7668 non-null   object \n",
      " 1   rating    7591 non-null   object \n",
      " 2   genre     7668 non-null   object \n",
      " 3   year      7668 non-null   int64  \n",
      " 4   released  7666 non-null   object \n",
      " 5   score     7665 non-null   float64\n",
      " 6   votes     7665 non-null   float64\n",
      " 7   director  7668 non-null   object \n",
      " 8   writer    7665 non-null   object \n",
      " 9   star      7667 non-null   object \n",
      " 10  country   7665 non-null   object \n",
      " 11  budget    5497 non-null   float64\n",
      " 12  gross     7479 non-null   float64\n",
      " 13  company   7651 non-null   object \n",
      " 14  runtime   7664 non-null   float64\n",
      "dtypes: float64(5), int64(1), object(9)\n",
      "memory usage: 898.7+ KB\n"
     ]
    }
   ],
   "source": [
    "df_movies.info()"
   ]
  },
  {
   "cell_type": "markdown",
   "id": "631630fb-3e66-456c-9edb-8cddaafbfa3f",
   "metadata": {},
   "source": [
    "**Find the number of NaN values in the DataFrame per column**"
   ]
  },
  {
   "cell_type": "code",
   "execution_count": 12,
   "id": "81fa14c2-10d3-40cb-82e6-9df97b465b39",
   "metadata": {},
   "outputs": [
    {
     "name": "stdout",
     "output_type": "stream",
     "text": [
      "name 0\n",
      "rating 77\n",
      "genre 0\n",
      "year 0\n",
      "released 2\n",
      "score 3\n",
      "votes 3\n",
      "director 0\n",
      "writer 3\n",
      "star 1\n",
      "country 3\n",
      "budget 2171\n",
      "gross 189\n",
      "company 17\n",
      "runtime 4\n"
     ]
    }
   ],
   "source": [
    "for col in df_movies:\n",
    "    missing = df_movies[col].isnull().sum()\n",
    "    print(f\"{col} {missing}\")"
   ]
  },
  {
   "cell_type": "markdown",
   "id": "83cbf2ef-ad46-4ae8-994d-6596b2aa7ca2",
   "metadata": {},
   "source": [
    "**Find the percent of NaN values in the DataFrame per column**"
   ]
  },
  {
   "cell_type": "code",
   "execution_count": 13,
   "id": "a2683f5e-bdb1-467d-90f6-3fcae5e35495",
   "metadata": {},
   "outputs": [
    {
     "name": "stdout",
     "output_type": "stream",
     "text": [
      "name - 0.0%\n",
      "rating - 0.01004%\n",
      "genre - 0.0%\n",
      "year - 0.0%\n",
      "released - 0.00026%\n",
      "score - 0.00039%\n",
      "votes - 0.00039%\n",
      "director - 0.0%\n",
      "writer - 0.00039%\n",
      "star - 0.00013%\n",
      "country - 0.00039%\n",
      "budget - 0.28312%\n",
      "gross - 0.02465%\n",
      "company - 0.00222%\n",
      "runtime - 0.00052%\n"
     ]
    }
   ],
   "source": [
    "for col in df_movies:\n",
    "    pct_missing = df_movies[col].isnull().mean().round(5)\n",
    "    print(f\"{col} - {pct_missing}%\")"
   ]
  },
  {
   "cell_type": "markdown",
   "id": "e57ab402-4585-4fd1-bafb-9495c1133324",
   "metadata": {},
   "source": [
    "*Most missing values are in columns 'gross' (189 missing values, 0.02%) and 'budget' (2171 missing values, 0.28%)*"
   ]
  },
  {
   "cell_type": "markdown",
   "id": "a9b6f901-f506-4f52-a261-3b2835cd6c36",
   "metadata": {},
   "source": [
    "**Examine further the 'year' column**"
   ]
  },
  {
   "cell_type": "code",
   "execution_count": 14,
   "id": "afe5a361-9681-4bf0-a695-ac72ea16c80b",
   "metadata": {},
   "outputs": [
    {
     "data": {
      "text/plain": [
       "year\n",
       "2000    200\n",
       "2009    200\n",
       "2002    200\n",
       "2003    200\n",
       "2004    200\n",
       "2005    200\n",
       "2006    200\n",
       "2007    200\n",
       "2008    200\n",
       "2010    200\n",
       "2019    200\n",
       "2011    200\n",
       "2012    200\n",
       "2013    200\n",
       "2014    200\n",
       "2015    200\n",
       "2016    200\n",
       "2017    200\n",
       "2001    200\n",
       "1999    200\n",
       "1990    200\n",
       "1991    200\n",
       "1985    200\n",
       "1986    200\n",
       "1987    200\n",
       "1988    200\n",
       "1989    200\n",
       "1998    200\n",
       "2018    200\n",
       "1992    200\n",
       "1993    200\n",
       "1994    200\n",
       "1995    200\n",
       "1996    200\n",
       "1997    200\n",
       "1984    168\n",
       "1983    144\n",
       "1982    126\n",
       "1981    113\n",
       "1980     92\n",
       "2020     25\n",
       "Name: count, dtype: int64"
      ]
     },
     "execution_count": 14,
     "metadata": {},
     "output_type": "execute_result"
    }
   ],
   "source": [
    "df_movies[\"year\"].value_counts()"
   ]
  },
  {
   "cell_type": "markdown",
   "id": "90dcb803-2fb7-45dc-a2e8-2b79fc661128",
   "metadata": {},
   "source": [
    "*The database contains exactly 200 movies per year (with the exception of movies produced from 1980 to 1984 and 2020)*"
   ]
  },
  {
   "cell_type": "markdown",
   "id": "cf7ead09-abb4-41bf-8c48-1f3743d2b75c",
   "metadata": {},
   "source": [
    "*For this reason the 'year' and 'released' columns will be used only for inflation adjustment on monetary values*"
   ]
  },
  {
   "cell_type": "markdown",
   "id": "1fb44693-e28f-4f38-9d79-28eaddfdbc20",
   "metadata": {},
   "source": [
    "**Delete the rows that contain missing values in columns with categorical data\\\n",
    "(rating, released, writer, star etc.)**"
   ]
  },
  {
   "cell_type": "code",
   "execution_count": 15,
   "id": "dee64475-558c-4e35-9221-19be5c5e36bb",
   "metadata": {},
   "outputs": [],
   "source": [
    "drop_nan_columns = df_movies.loc(axis=1)[\"rating\", \"released\", \"writer\", \"star\", \"country\", \"company\", \"score\", \"votes\"].columns\n",
    "df_movies = df_movies.dropna(subset=drop_nan_columns)"
   ]
  },
  {
   "cell_type": "markdown",
   "id": "7e0ef0d4-fc1c-4928-887a-5640f4e7a837",
   "metadata": {},
   "source": [
    "**Check the missing values again**"
   ]
  },
  {
   "cell_type": "code",
   "execution_count": 16,
   "id": "9d2ce194-181c-4635-8118-4274912655ec",
   "metadata": {},
   "outputs": [
    {
     "name": "stdout",
     "output_type": "stream",
     "text": [
      "name 0\n",
      "rating 0\n",
      "genre 0\n",
      "year 0\n",
      "released 0\n",
      "score 0\n",
      "votes 0\n",
      "director 0\n",
      "writer 0\n",
      "star 0\n",
      "country 0\n",
      "budget 2101\n",
      "gross 162\n",
      "company 0\n",
      "runtime 1\n"
     ]
    }
   ],
   "source": [
    "for col in df_movies:\n",
    "    missing = df_movies[col].isnull().sum()\n",
    "    print(f\"{col} {missing}\")"
   ]
  },
  {
   "cell_type": "markdown",
   "id": "f6587199-26b1-4b4b-b1b8-46c013c22986",
   "metadata": {},
   "source": [
    "*The missing values in columns 'gross' are 162 and in column 'budget' are 2101*"
   ]
  },
  {
   "cell_type": "code",
   "execution_count": null,
   "id": "08847c19-6ed2-4202-8120-312d9681c5c9",
   "metadata": {},
   "outputs": [],
   "source": []
  },
  {
   "cell_type": "markdown",
   "id": "dba44c66-c3bf-489a-bb67-288db5f5310e",
   "metadata": {},
   "source": [
    "**Assume the missing data are MCAR/MAR and use multiple imputation to generate replacement values\\***"
   ]
  },
  {
   "cell_type": "markdown",
   "id": "3f2925e4-89b2-4831-a92c-bd4ae687731f",
   "metadata": {},
   "source": [
    "**Since we don't have access to the data source, we can't detect the type and mechanism of the missing data (MCAR/MAR/MNAR)\\\n",
    "So imputing the missing values, will probably introduce bias into the dataset\\\n",
    "The following imputing method (MI), assumes that the missing data are at least MAR, and is performed mainly for demonstration purposes*"
   ]
  },
  {
   "cell_type": "markdown",
   "id": "43accb60-8a3a-4d7f-99ad-0bb5d90843df",
   "metadata": {},
   "source": [
    "**Create a copy of the DataFrame that contains the three columns with the missing data**"
   ]
  },
  {
   "cell_type": "code",
   "execution_count": 17,
   "id": "70781740-4d36-4c41-ac68-f764042031de",
   "metadata": {},
   "outputs": [],
   "source": [
    "df_movies_imput_col = df_movies[[\"budget\", \"gross\", \"runtime\"]].copy(deep=True)"
   ]
  },
  {
   "cell_type": "markdown",
   "id": "36f106c1-5706-4f54-90bc-50127122c9ae",
   "metadata": {},
   "source": [
    "**Reset the Index of the DataFrame**"
   ]
  },
  {
   "cell_type": "code",
   "execution_count": 18,
   "id": "9ab61741-7926-474c-9097-f1c58ba87c85",
   "metadata": {},
   "outputs": [],
   "source": [
    "df_movies_imput_col = df_movies_imput_col.reset_index(drop=True)"
   ]
  },
  {
   "cell_type": "markdown",
   "id": "00ecd20a-5b1a-4e55-bc56-d2bfe006d3c5",
   "metadata": {},
   "source": [
    "**Create kernel**"
   ]
  },
  {
   "cell_type": "code",
   "execution_count": 19,
   "id": "92d02ee3-259b-42da-a8be-837c425760b3",
   "metadata": {},
   "outputs": [],
   "source": [
    "# Set the random state equal to any number, to ensure that the splits generated are reproducible.\n",
    "kds = mf.ImputationKernel(\n",
    "    df_movies_imput_col,\n",
    "    num_datasets=5,\n",
    "    save_all_iterations_data=True,\n",
    "    mean_match_candidates=5,\n",
    "    mean_match_strategy=\"sharp\",  # or try \"shap\"\n",
    "    copy_data=True\n",
    "    #random_state=42\n",
    ")"
   ]
  },
  {
   "cell_type": "markdown",
   "id": "15368ecc-2453-4297-b0cd-ab141afe73d4",
   "metadata": {},
   "source": [
    "**Run the algorithm for 5 iterations, while injecting variability**"
   ]
  },
  {
   "cell_type": "code",
   "execution_count": 20,
   "id": "25355387-c64f-4a3d-b9ff-96841f83f577",
   "metadata": {},
   "outputs": [],
   "source": [
    "kds.mice(iterations=5)"
   ]
  },
  {
   "cell_type": "markdown",
   "id": "d48556b8-adb7-4fe9-b4be-93834c08c3c6",
   "metadata": {},
   "source": [
    "**Confirm that kds.mice() run and saved five iterations**"
   ]
  },
  {
   "cell_type": "code",
   "execution_count": 21,
   "id": "01467d6b-ef7f-4aef-91db-2e4dcd9935ca",
   "metadata": {},
   "outputs": [
    {
     "data": {
      "text/plain": [
       "5"
      ]
     },
     "execution_count": 21,
     "metadata": {},
     "output_type": "execute_result"
    }
   ],
   "source": [
    "kds.iteration_count()"
   ]
  },
  {
   "cell_type": "markdown",
   "id": "0d3abda0-9e2b-4110-8e03-697c0c0c345b",
   "metadata": {},
   "source": [
    "*Change the parameters below to view a specific iteration*"
   ]
  },
  {
   "cell_type": "code",
   "execution_count": 22,
   "id": "65582e45-3b30-41fc-8fb6-c0919d2e67f3",
   "metadata": {},
   "outputs": [
    {
     "data": {
      "text/html": [
       "<div>\n",
       "<style scoped>\n",
       "    .dataframe tbody tr th:only-of-type {\n",
       "        vertical-align: middle;\n",
       "    }\n",
       "\n",
       "    .dataframe tbody tr th {\n",
       "        vertical-align: top;\n",
       "    }\n",
       "\n",
       "    .dataframe thead th {\n",
       "        text-align: right;\n",
       "    }\n",
       "</style>\n",
       "<table border=\"1\" class=\"dataframe\">\n",
       "  <thead>\n",
       "    <tr style=\"text-align: right;\">\n",
       "      <th></th>\n",
       "      <th>budget</th>\n",
       "      <th>gross</th>\n",
       "      <th>runtime</th>\n",
       "    </tr>\n",
       "  </thead>\n",
       "  <tbody>\n",
       "    <tr>\n",
       "      <th>0</th>\n",
       "      <td>19000000.00</td>\n",
       "      <td>46998772.00</td>\n",
       "      <td>146.00</td>\n",
       "    </tr>\n",
       "    <tr>\n",
       "      <th>1</th>\n",
       "      <td>4500000.00</td>\n",
       "      <td>58853106.00</td>\n",
       "      <td>104.00</td>\n",
       "    </tr>\n",
       "    <tr>\n",
       "      <th>2</th>\n",
       "      <td>18000000.00</td>\n",
       "      <td>538375067.00</td>\n",
       "      <td>124.00</td>\n",
       "    </tr>\n",
       "    <tr>\n",
       "      <th>3</th>\n",
       "      <td>3500000.00</td>\n",
       "      <td>83453539.00</td>\n",
       "      <td>88.00</td>\n",
       "    </tr>\n",
       "    <tr>\n",
       "      <th>4</th>\n",
       "      <td>6000000.00</td>\n",
       "      <td>39846344.00</td>\n",
       "      <td>98.00</td>\n",
       "    </tr>\n",
       "  </tbody>\n",
       "</table>\n",
       "</div>"
      ],
      "text/plain": [
       "       budget        gross  runtime\n",
       "0 19000000.00  46998772.00   146.00\n",
       "1  4500000.00  58853106.00   104.00\n",
       "2 18000000.00 538375067.00   124.00\n",
       "3  3500000.00  83453539.00    88.00\n",
       "4  6000000.00  39846344.00    98.00"
      ]
     },
     "execution_count": 22,
     "metadata": {},
     "output_type": "execute_result"
    }
   ],
   "source": [
    "kds.complete_data(dataset=4, iteration=3).head()"
   ]
  },
  {
   "cell_type": "markdown",
   "id": "84aa03c9-cc85-456d-9f92-791b27ee7fbc",
   "metadata": {},
   "source": [
    "**Combine the iterations using 'concat' and 'median()' into the final imputated dataset**"
   ]
  },
  {
   "cell_type": "code",
   "execution_count": 23,
   "id": "9dbdf752-a014-44ea-b334-29bf4f3cd487",
   "metadata": {},
   "outputs": [],
   "source": [
    "df_movies_imput_col_final = pd.concat([kds.complete_data(i) for i in range(5)]).groupby(level=0).median()"
   ]
  },
  {
   "cell_type": "markdown",
   "id": "5d657031-550c-42c3-86cd-eb2d35b81bd2",
   "metadata": {},
   "source": [
    "**Ensure we are storing all the imputed data**"
   ]
  },
  {
   "cell_type": "code",
   "execution_count": 24,
   "id": "ec4972f4-7004-4edd-9e63-234badde30fb",
   "metadata": {},
   "outputs": [],
   "source": [
    "df_movies_imput_col_final = kds.complete_data(dataset=0, iteration=4).reset_index(drop=True)"
   ]
  },
  {
   "cell_type": "code",
   "execution_count": 25,
   "id": "22cfbc79-bf9d-486c-81d5-29c2df8cfd3a",
   "metadata": {},
   "outputs": [
    {
     "data": {
      "text/html": [
       "<div>\n",
       "<style scoped>\n",
       "    .dataframe tbody tr th:only-of-type {\n",
       "        vertical-align: middle;\n",
       "    }\n",
       "\n",
       "    .dataframe tbody tr th {\n",
       "        vertical-align: top;\n",
       "    }\n",
       "\n",
       "    .dataframe thead th {\n",
       "        text-align: right;\n",
       "    }\n",
       "</style>\n",
       "<table border=\"1\" class=\"dataframe\">\n",
       "  <thead>\n",
       "    <tr style=\"text-align: right;\">\n",
       "      <th></th>\n",
       "      <th>budget</th>\n",
       "      <th>gross</th>\n",
       "      <th>runtime</th>\n",
       "    </tr>\n",
       "  </thead>\n",
       "  <tbody>\n",
       "    <tr>\n",
       "      <th>0</th>\n",
       "      <td>19000000.00</td>\n",
       "      <td>46998772.00</td>\n",
       "      <td>146.00</td>\n",
       "    </tr>\n",
       "    <tr>\n",
       "      <th>1</th>\n",
       "      <td>4500000.00</td>\n",
       "      <td>58853106.00</td>\n",
       "      <td>104.00</td>\n",
       "    </tr>\n",
       "    <tr>\n",
       "      <th>2</th>\n",
       "      <td>18000000.00</td>\n",
       "      <td>538375067.00</td>\n",
       "      <td>124.00</td>\n",
       "    </tr>\n",
       "    <tr>\n",
       "      <th>3</th>\n",
       "      <td>3500000.00</td>\n",
       "      <td>83453539.00</td>\n",
       "      <td>88.00</td>\n",
       "    </tr>\n",
       "    <tr>\n",
       "      <th>4</th>\n",
       "      <td>6000000.00</td>\n",
       "      <td>39846344.00</td>\n",
       "      <td>98.00</td>\n",
       "    </tr>\n",
       "  </tbody>\n",
       "</table>\n",
       "</div>"
      ],
      "text/plain": [
       "       budget        gross  runtime\n",
       "0 19000000.00  46998772.00   146.00\n",
       "1  4500000.00  58853106.00   104.00\n",
       "2 18000000.00 538375067.00   124.00\n",
       "3  3500000.00  83453539.00    88.00\n",
       "4  6000000.00  39846344.00    98.00"
      ]
     },
     "execution_count": 25,
     "metadata": {},
     "output_type": "execute_result"
    }
   ],
   "source": [
    "df_movies_imput_col_final.head()"
   ]
  },
  {
   "cell_type": "code",
   "execution_count": 26,
   "id": "a457c3d7-fd1a-4be4-b635-a95c299d41a4",
   "metadata": {},
   "outputs": [
    {
     "data": {
      "text/plain": [
       "budget     0\n",
       "gross      0\n",
       "runtime    0\n",
       "dtype: int64"
      ]
     },
     "execution_count": 26,
     "metadata": {},
     "output_type": "execute_result"
    }
   ],
   "source": [
    "df_movies_imput_col_final.isnull().sum()"
   ]
  },
  {
   "cell_type": "markdown",
   "id": "667ee57d-a7b0-47b7-989d-a454ac75a415",
   "metadata": {},
   "source": [
    "**Replace the columns with missing values**"
   ]
  },
  {
   "cell_type": "code",
   "execution_count": 27,
   "id": "2cdf42a9-1a64-4496-bb47-25194d065ce7",
   "metadata": {},
   "outputs": [],
   "source": [
    "df_movies[[\"budget\", \"gross\", \"runtime\"]] = df_movies_imput_col_final[[\"budget\", \"gross\", \"runtime\"]].values"
   ]
  },
  {
   "cell_type": "markdown",
   "id": "2e3dcdfc-b5a8-4d7a-aadb-18363b24fcab",
   "metadata": {},
   "source": [
    "**Check the df_movies DataFrame for missing values**"
   ]
  },
  {
   "cell_type": "code",
   "execution_count": 28,
   "id": "ce032264-06f7-465a-8803-13cd3f9571a4",
   "metadata": {},
   "outputs": [
    {
     "data": {
      "text/plain": [
       "name        0\n",
       "rating      0\n",
       "genre       0\n",
       "year        0\n",
       "released    0\n",
       "score       0\n",
       "votes       0\n",
       "director    0\n",
       "writer      0\n",
       "star        0\n",
       "country     0\n",
       "budget      0\n",
       "gross       0\n",
       "company     0\n",
       "runtime     0\n",
       "dtype: int64"
      ]
     },
     "execution_count": 28,
     "metadata": {},
     "output_type": "execute_result"
    }
   ],
   "source": [
    "df_movies.isnull().sum()"
   ]
  },
  {
   "cell_type": "markdown",
   "id": "a37131a7-93cf-46b4-b6a9-54b24609f680",
   "metadata": {},
   "source": [
    "**Convert the datatype for columns 'budget' and 'gross' from float to integer using 'astype()'**"
   ]
  },
  {
   "cell_type": "code",
   "execution_count": 29,
   "id": "ee34f942-752f-4f72-8fe2-af24464cdfff",
   "metadata": {},
   "outputs": [],
   "source": [
    "df_movies[\"budget\"] = df_movies[\"budget\"].astype(\"int64\")\n",
    "df_movies[\"gross\"] = df_movies[\"gross\"].astype(\"int64\")"
   ]
  },
  {
   "cell_type": "markdown",
   "id": "d4ff2e93-fd01-47c5-b811-2e034ba32839",
   "metadata": {},
   "source": [
    "**Create a new column using the 'released' column, in order to find the correct year that each movie was released**"
   ]
  },
  {
   "cell_type": "code",
   "execution_count": 30,
   "id": "7f6bc78e-a898-48fb-a3f2-2fdaafede529",
   "metadata": {},
   "outputs": [],
   "source": [
    "# Used 'str[-5:-1]' because some of the release dates were missing the day and month of release resulting in NaN values\n",
    "df_movies[\"release_year\"] = df_movies.released.str.split(\"(\").str[0].str[-5:-1]"
   ]
  },
  {
   "cell_type": "markdown",
   "id": "2d1a6f1a-6799-48fe-8b8a-41329ea3b8a3",
   "metadata": {},
   "source": [
    "**Convert the datatype for the 'release_year' column to int using 'astype()'**"
   ]
  },
  {
   "cell_type": "code",
   "execution_count": 31,
   "id": "adac8551-e488-434b-b844-8e78a259f66a",
   "metadata": {},
   "outputs": [],
   "source": [
    "df_movies[\"release_year\"] = df_movies[\"release_year\"].astype(\"int64\")"
   ]
  },
  {
   "cell_type": "code",
   "execution_count": null,
   "id": "a9e7f1b2-a20a-4495-bdc4-32d60a79ecc0",
   "metadata": {},
   "outputs": [],
   "source": []
  },
  {
   "cell_type": "markdown",
   "id": "4c429f5b-889e-4473-a313-417a4c912421",
   "metadata": {},
   "source": [
    "**Adjust for inflation**"
   ]
  },
  {
   "cell_type": "markdown",
   "id": "098f3302-ccc9-4197-890b-a48ad9ec1546",
   "metadata": {},
   "source": [
    "*The 'budget' and 'gross' columns contain monetary values that are not adjusted for inflation*"
   ]
  },
  {
   "cell_type": "markdown",
   "id": "308f3426-2af8-419d-80ef-9bbafd04033a",
   "metadata": {},
   "source": [
    "*Adjusting for ticket price inflation is not an exact science and should be viewed only as an indicator\\\n",
    "of what the earnings of a movie might have been if released in a different year, assuming the same number of ticket sales*"
   ]
  },
  {
   "cell_type": "markdown",
   "id": "2ea02c76-7937-454e-8e02-3f94f1e9bb7e",
   "metadata": {},
   "source": [
    "*The 'gross' column of the DataFrame refers to the worldwide gross revenue for each movie, including domestic gross (in USD $)*"
   ]
  },
  {
   "cell_type": "markdown",
   "id": "5014dc8d-e7ed-4e66-a770-b2d0747c9ecf",
   "metadata": {},
   "source": [
    "**Check the percent of movies produced per country**"
   ]
  },
  {
   "cell_type": "code",
   "execution_count": 32,
   "id": "e640c3c0-ee5c-4a4e-9f7c-c0221c00aa21",
   "metadata": {},
   "outputs": [
    {
     "data": {
      "text/plain": [
       "country\n",
       "United States                    71.91\n",
       "United Kingdom                   10.67\n",
       "France                            3.50\n",
       "Canada                            2.47\n",
       "Germany                           1.50\n",
       "Australia                         1.20\n",
       "Japan                             0.99\n",
       "India                             0.81\n",
       "Italy                             0.77\n",
       "Spain                             0.62\n",
       "Hong Kong                         0.57\n",
       "Ireland                           0.57\n",
       "China                             0.46\n",
       "Denmark                           0.41\n",
       "South Korea                       0.41\n",
       "New Zealand                       0.33\n",
       "Sweden                            0.32\n",
       "Mexico                            0.28\n",
       "Norway                            0.16\n",
       "Netherlands                       0.16\n",
       "Iran                              0.13\n",
       "Switzerland                       0.13\n",
       "West Germany                      0.12\n",
       "Russia                            0.11\n",
       "Belgium                           0.11\n",
       "Czech Republic                    0.11\n",
       "Argentina                         0.09\n",
       "Taiwan                            0.09\n",
       "South Africa                      0.09\n",
       "Thailand                          0.08\n",
       "Brazil                            0.08\n",
       "Yugoslavia                        0.07\n",
       "Israel                            0.07\n",
       "Austria                           0.07\n",
       "Poland                            0.05\n",
       "Hungary                           0.05\n",
       "Finland                           0.04\n",
       "Turkey                            0.04\n",
       "United Arab Emirates              0.03\n",
       "Greece                            0.03\n",
       "Vietnam                           0.03\n",
       "Portugal                          0.03\n",
       "Chile                             0.03\n",
       "Soviet Union                      0.03\n",
       "Iceland                           0.03\n",
       "Federal Republic of Yugoslavia    0.03\n",
       "Indonesia                         0.03\n",
       "Philippines                       0.01\n",
       "Malta                             0.01\n",
       "Panama                            0.01\n",
       "Kenya                             0.01\n",
       "Republic of Macedonia             0.01\n",
       "Serbia                            0.01\n",
       "Romania                           0.01\n",
       "Colombia                          0.01\n",
       "Aruba                             0.01\n",
       "Jamaica                           0.01\n",
       "Libya                             0.01\n",
       "Lebanon                           0.01\n",
       "Name: proportion, dtype: float64"
      ]
     },
     "execution_count": 32,
     "metadata": {},
     "output_type": "execute_result"
    }
   ],
   "source": [
    "df_movies[\"country\"].value_counts(normalize=True) * 100"
   ]
  },
  {
   "cell_type": "markdown",
   "id": "c43f08b6-7c54-4cc0-bf24-661fd2ffc61c",
   "metadata": {},
   "source": [
    "*The vast majority of movies are produced in USA*"
   ]
  },
  {
   "cell_type": "markdown",
   "id": "cba7c477-ab69-4b4c-b830-9fb864fb57af",
   "metadata": {},
   "source": [
    "*For simplicity reasons, we will use the U.S. as the basis for the inflation adjustments*"
   ]
  },
  {
   "cell_type": "markdown",
   "id": "ecc863cc-969f-40fa-b8db-58268636ec74",
   "metadata": {},
   "source": [
    "**Adjust the 'budget' column for inflation**"
   ]
  },
  {
   "attachments": {},
   "cell_type": "markdown",
   "id": "e58463ab-1107-4051-a408-6e87a816caf2",
   "metadata": {},
   "source": [
    "*In order to adjust the 'budget' column, we use the annual core consumer price inflation\\\n",
    "(Food and energy are exempt from this metric, since those prices can be too volatile or fluctuate wildly)*"
   ]
  },
  {
   "cell_type": "markdown",
   "id": "11703154-474e-4dbf-acfb-add740c44b80",
   "metadata": {},
   "source": [
    "**Create a dictionary of inflation multipliers**"
   ]
  },
  {
   "cell_type": "code",
   "execution_count": 33,
   "id": "7f5cdcf3-7e9a-48c2-8015-d82c5282e885",
   "metadata": {},
   "outputs": [],
   "source": [
    "unique_years = df_movies[\"release_year\"].dropna().unique()"
   ]
  },
  {
   "cell_type": "code",
   "execution_count": 34,
   "id": "672d621c-d886-4ff4-837a-1b3a86ae4802",
   "metadata": {},
   "outputs": [],
   "source": [
    "inflation_factors = {year: cpi.inflate(1.0, year, items=\"All items less food and energy\") for year in unique_years}"
   ]
  },
  {
   "cell_type": "markdown",
   "id": "0c113128-c506-4df5-9611-9ea3a0e8c3f3",
   "metadata": {},
   "source": [
    "**Map the multiplier to each row**"
   ]
  },
  {
   "cell_type": "code",
   "execution_count": 35,
   "id": "fe07f180-564e-43ea-b3f0-0ab15069e538",
   "metadata": {},
   "outputs": [],
   "source": [
    "df_movies[\"inflation_factor\"] = df_movies[\"release_year\"].map(inflation_factors)"
   ]
  },
  {
   "cell_type": "markdown",
   "id": "c400a992-6721-4426-893c-b4d2ee7f1c67",
   "metadata": {},
   "source": [
    "**Adjust the budget**"
   ]
  },
  {
   "cell_type": "code",
   "execution_count": 36,
   "id": "f20a5d28-e1bf-43cb-95c4-0930a29c1efb",
   "metadata": {},
   "outputs": [],
   "source": [
    "df_movies[\"infl_adj_budget\"] = df_movies[\"budget\"] * df_movies[\"inflation_factor\"]"
   ]
  },
  {
   "cell_type": "markdown",
   "id": "3bbb0e17-8938-48d2-a56c-3803d999fb12",
   "metadata": {},
   "source": [
    "*In order to adjust the 'gross' column, we would have to use the CPI called:\\\n",
    "'Consumer Price Index for All Urban Consumers: Admission to Movies, Theaters, and Concerts'*"
   ]
  },
  {
   "cell_type": "markdown",
   "id": "6260faac-e11d-4ab7-bef0-8427cc2fd452",
   "metadata": {},
   "source": [
    "*Unfortunately the starting date for that CPI is 1997, so we cannot use the cpi package to calculate the adjusted gross earnings for movies that were released prior to that year*"
   ]
  },
  {
   "cell_type": "markdown",
   "id": "993ccb1c-deef-4ad6-83df-93aefeb82b6e",
   "metadata": {},
   "source": [
    "*Instead we will use the annual average U.S. ticket prices provided by the National Assosiation of Theatre Owners (NATO)\\\n",
    "in order to calculate the inflation for ticket prices from 1980 and onwards*"
   ]
  },
  {
   "cell_type": "markdown",
   "id": "e153723d-cd55-446d-b113-0e18740bee41",
   "metadata": {},
   "source": [
    "*We should also note here that the figures we have from 1989 to 2022, are the outcome of NATO's surveys and data before 1989 are based on the CPI-W index*"
   ]
  },
  {
   "cell_type": "markdown",
   "id": "40126efe-1d75-422f-be05-c097f383bbaa",
   "metadata": {},
   "source": [
    "*Before scraping the website we make sure that we are allowed to\\\n",
    "Add '/robots.txt' in the website's address (https://www.natoonline.org/robots.txt)*"
   ]
  },
  {
   "cell_type": "markdown",
   "id": "12da5fea-fb0c-4c5d-bed5-272c5c0d7528",
   "metadata": {},
   "source": [
    "*We get this message:\\\n",
    "\\\n",
    "Sitemap: https://www.natoonline.org/sitemap.xml \\\n",
    "Sitemap: https://www.natoonline.org/news-sitemap.xml \\\n",
    "User-agent: * \\\n",
    "Disallow: /wp-admin/ \\\n",
    "Allow: /wp-admin/admin-ajax.php*"
   ]
  },
  {
   "cell_type": "markdown",
   "id": "80fe8495-3b8d-47ad-a731-6d25ff1ffaf9",
   "metadata": {},
   "source": [
    "*Scraping the website is allowed, with the exception of the 'wp-admin' path*"
   ]
  },
  {
   "cell_type": "markdown",
   "id": "a0f89d17-4399-4fc4-b0b7-938989e495f0",
   "metadata": {},
   "source": [
    "*The page that contains the necessary data:\\\n",
    "https://www.natoonline.org/data/ticket-price/*"
   ]
  },
  {
   "cell_type": "code",
   "execution_count": 37,
   "id": "71f765c2-ee25-430c-a7df-7c6d79fbdd0e",
   "metadata": {},
   "outputs": [
    {
     "name": "stdout",
     "output_type": "stream",
     "text": [
      "<Response [200]>\n"
     ]
    }
   ],
   "source": [
    "# Save the url\n",
    "url = \"https://www.natoonline.org\"\n",
    "\n",
    "# Get the data using 'get'\n",
    "page = requests.get(url)\n",
    "\n",
    "# Check if the server responds properly (200)\n",
    "print(page)"
   ]
  },
  {
   "cell_type": "code",
   "execution_count": 31,
   "id": "ab92f315-ddb7-4c33-ab2f-e0f05f2cfb92",
   "metadata": {},
   "outputs": [],
   "source": [
    "# Store the HTML code \n",
    "soup = BeautifulSoup(page.text, \"html\")\n",
    "\n",
    "# Uncomment the next line to display the HTML code\n",
    "#soup"
   ]
  },
  {
   "cell_type": "markdown",
   "id": "0679e2bd-3e6f-48f1-a2c8-ffc9e056610c",
   "metadata": {},
   "source": [
    "**Find the headers of the table**"
   ]
  },
  {
   "cell_type": "code",
   "execution_count": 32,
   "id": "34748e34-3f25-400d-8f28-064c78302ea0",
   "metadata": {},
   "outputs": [
    {
     "data": {
      "text/plain": [
       "[<th class=\"column-1\">Year</th>, <th class=\"column-2\">Price</th>]"
      ]
     },
     "execution_count": 32,
     "metadata": {},
     "output_type": "execute_result"
    }
   ],
   "source": [
    "soup.find_all(\"th\")"
   ]
  },
  {
   "cell_type": "code",
   "execution_count": 33,
   "id": "80e53d16-4504-4b7e-b7cc-cedce4a72443",
   "metadata": {},
   "outputs": [],
   "source": [
    "headers = soup.find_all(\"th\")"
   ]
  },
  {
   "cell_type": "markdown",
   "id": "c11a3baa-b571-4864-a1f7-1c903af7c65b",
   "metadata": {},
   "source": [
    "**Clean and store the scraped headers**"
   ]
  },
  {
   "cell_type": "code",
   "execution_count": 34,
   "id": "fa002eb4-f9fa-4f09-82a0-d739e5285eb6",
   "metadata": {},
   "outputs": [],
   "source": [
    "column_header = [header.text.strip() for header in headers]"
   ]
  },
  {
   "cell_type": "markdown",
   "id": "ca5f3857-310d-422f-bfcc-07ec50e31ad2",
   "metadata": {},
   "source": [
    "**Create the DataFrame that will store the scraped data**"
   ]
  },
  {
   "cell_type": "code",
   "execution_count": 35,
   "id": "b1cdc6ba-2680-41cd-ab97-a17ab4a7d256",
   "metadata": {},
   "outputs": [
    {
     "data": {
      "text/html": [
       "<div>\n",
       "<style scoped>\n",
       "    .dataframe tbody tr th:only-of-type {\n",
       "        vertical-align: middle;\n",
       "    }\n",
       "\n",
       "    .dataframe tbody tr th {\n",
       "        vertical-align: top;\n",
       "    }\n",
       "\n",
       "    .dataframe thead th {\n",
       "        text-align: right;\n",
       "    }\n",
       "</style>\n",
       "<table border=\"1\" class=\"dataframe\">\n",
       "  <thead>\n",
       "    <tr style=\"text-align: right;\">\n",
       "      <th></th>\n",
       "      <th>Year</th>\n",
       "      <th>Price</th>\n",
       "    </tr>\n",
       "  </thead>\n",
       "  <tbody>\n",
       "  </tbody>\n",
       "</table>\n",
       "</div>"
      ],
      "text/plain": [
       "Empty DataFrame\n",
       "Columns: [Year, Price]\n",
       "Index: []"
      ]
     },
     "execution_count": 35,
     "metadata": {},
     "output_type": "execute_result"
    }
   ],
   "source": [
    "df_movie_tickets_over_time = pd.DataFrame(columns=column_header)\n",
    "\n",
    "df_movie_tickets_over_time"
   ]
  },
  {
   "cell_type": "markdown",
   "id": "057e1b89-7656-4e78-8620-a9f1aa0d8cb0",
   "metadata": {},
   "source": [
    "**Continue scraping the rest of the DataFrame info**"
   ]
  },
  {
   "cell_type": "code",
   "execution_count": 36,
   "id": "3673e390-17bc-4691-b0c8-40c3f418d5a7",
   "metadata": {},
   "outputs": [],
   "source": [
    "column_data = soup.find_all(\"tr\")[1: -1]"
   ]
  },
  {
   "cell_type": "code",
   "execution_count": 37,
   "id": "5dfe2f85-ae18-47d8-b0a2-2289975ceeab",
   "metadata": {},
   "outputs": [],
   "source": [
    "# Create a list to store the data\n",
    "string_row_data = [data.text.strip() for data in column_data]"
   ]
  },
  {
   "cell_type": "code",
   "execution_count": 38,
   "id": "1a778f69-6141-438b-ad2f-75ad4b5462c0",
   "metadata": {},
   "outputs": [],
   "source": [
    "# Use 'split()' to create the data to be added on the 'Year' and 'Price' columns\n",
    "list_row_data = [row_data.split(\"$\") for row_data in string_row_data]"
   ]
  },
  {
   "cell_type": "markdown",
   "id": "6541dfff-7b52-42fd-a046-93bec2ca4d96",
   "metadata": {},
   "source": [
    "**Pass the data into the columns**"
   ]
  },
  {
   "cell_type": "code",
   "execution_count": 39,
   "id": "fcf9d759-f80c-492a-bc25-97855a1068d9",
   "metadata": {},
   "outputs": [],
   "source": [
    "for row in list_row_data:\n",
    "    length = len(df_movie_tickets_over_time)\n",
    "    df_movie_tickets_over_time.loc[length] = row"
   ]
  },
  {
   "cell_type": "markdown",
   "id": "b7324e14-173b-4e76-bf04-b6fa345b5fc4",
   "metadata": {},
   "source": [
    "**Check the Dataframe**"
   ]
  },
  {
   "cell_type": "code",
   "execution_count": 40,
   "id": "ec838687-1f63-4a7c-8f41-3904fc466887",
   "metadata": {},
   "outputs": [
    {
     "data": {
      "text/html": [
       "<div>\n",
       "<style scoped>\n",
       "    .dataframe tbody tr th:only-of-type {\n",
       "        vertical-align: middle;\n",
       "    }\n",
       "\n",
       "    .dataframe tbody tr th {\n",
       "        vertical-align: top;\n",
       "    }\n",
       "\n",
       "    .dataframe thead th {\n",
       "        text-align: right;\n",
       "    }\n",
       "</style>\n",
       "<table border=\"1\" class=\"dataframe\">\n",
       "  <thead>\n",
       "    <tr style=\"text-align: right;\">\n",
       "      <th></th>\n",
       "      <th>Year</th>\n",
       "      <th>Price</th>\n",
       "    </tr>\n",
       "  </thead>\n",
       "  <tbody>\n",
       "    <tr>\n",
       "      <th>0</th>\n",
       "      <td>2022</td>\n",
       "      <td>10.53</td>\n",
       "    </tr>\n",
       "    <tr>\n",
       "      <th>1</th>\n",
       "      <td>2021</td>\n",
       "      <td>10.17</td>\n",
       "    </tr>\n",
       "    <tr>\n",
       "      <th>2</th>\n",
       "      <td>2020</td>\n",
       "      <td>9.18</td>\n",
       "    </tr>\n",
       "    <tr>\n",
       "      <th>3</th>\n",
       "      <td>2019</td>\n",
       "      <td>9.16</td>\n",
       "    </tr>\n",
       "    <tr>\n",
       "      <th>4</th>\n",
       "      <td>2018</td>\n",
       "      <td>9.16</td>\n",
       "    </tr>\n",
       "    <tr>\n",
       "      <th>5</th>\n",
       "      <td>2017</td>\n",
       "      <td>8.97</td>\n",
       "    </tr>\n",
       "    <tr>\n",
       "      <th>6</th>\n",
       "      <td>2016</td>\n",
       "      <td>8.65</td>\n",
       "    </tr>\n",
       "    <tr>\n",
       "      <th>7</th>\n",
       "      <td>2015</td>\n",
       "      <td>8.43</td>\n",
       "    </tr>\n",
       "    <tr>\n",
       "      <th>8</th>\n",
       "      <td>2014</td>\n",
       "      <td>8.17</td>\n",
       "    </tr>\n",
       "    <tr>\n",
       "      <th>9</th>\n",
       "      <td>2013</td>\n",
       "      <td>8.13</td>\n",
       "    </tr>\n",
       "    <tr>\n",
       "      <th>10</th>\n",
       "      <td>2012</td>\n",
       "      <td>7.96</td>\n",
       "    </tr>\n",
       "    <tr>\n",
       "      <th>11</th>\n",
       "      <td>2011</td>\n",
       "      <td>7.93</td>\n",
       "    </tr>\n",
       "    <tr>\n",
       "      <th>12</th>\n",
       "      <td>2010</td>\n",
       "      <td>7.89</td>\n",
       "    </tr>\n",
       "    <tr>\n",
       "      <th>13</th>\n",
       "      <td>2009</td>\n",
       "      <td>7.50</td>\n",
       "    </tr>\n",
       "    <tr>\n",
       "      <th>14</th>\n",
       "      <td>2008</td>\n",
       "      <td>7.18</td>\n",
       "    </tr>\n",
       "    <tr>\n",
       "      <th>15</th>\n",
       "      <td>2007</td>\n",
       "      <td>6.88</td>\n",
       "    </tr>\n",
       "    <tr>\n",
       "      <th>16</th>\n",
       "      <td>2006</td>\n",
       "      <td>6.55</td>\n",
       "    </tr>\n",
       "    <tr>\n",
       "      <th>17</th>\n",
       "      <td>2005</td>\n",
       "      <td>6.41</td>\n",
       "    </tr>\n",
       "    <tr>\n",
       "      <th>18</th>\n",
       "      <td>2004</td>\n",
       "      <td>6.21</td>\n",
       "    </tr>\n",
       "    <tr>\n",
       "      <th>19</th>\n",
       "      <td>2003</td>\n",
       "      <td>6.03</td>\n",
       "    </tr>\n",
       "    <tr>\n",
       "      <th>20</th>\n",
       "      <td>2002</td>\n",
       "      <td>5.80</td>\n",
       "    </tr>\n",
       "    <tr>\n",
       "      <th>21</th>\n",
       "      <td>2001</td>\n",
       "      <td>5.65</td>\n",
       "    </tr>\n",
       "    <tr>\n",
       "      <th>22</th>\n",
       "      <td>2000</td>\n",
       "      <td>5.39</td>\n",
       "    </tr>\n",
       "    <tr>\n",
       "      <th>23</th>\n",
       "      <td>1999</td>\n",
       "      <td>5.06</td>\n",
       "    </tr>\n",
       "    <tr>\n",
       "      <th>24</th>\n",
       "      <td>1998</td>\n",
       "      <td>4.69</td>\n",
       "    </tr>\n",
       "    <tr>\n",
       "      <th>25</th>\n",
       "      <td>1997</td>\n",
       "      <td>4.59</td>\n",
       "    </tr>\n",
       "    <tr>\n",
       "      <th>26</th>\n",
       "      <td>1996</td>\n",
       "      <td>4.42</td>\n",
       "    </tr>\n",
       "    <tr>\n",
       "      <th>27</th>\n",
       "      <td>1995</td>\n",
       "      <td>4.35</td>\n",
       "    </tr>\n",
       "    <tr>\n",
       "      <th>28</th>\n",
       "      <td>1994</td>\n",
       "      <td>4.08</td>\n",
       "    </tr>\n",
       "    <tr>\n",
       "      <th>29</th>\n",
       "      <td>1993</td>\n",
       "      <td>4.14</td>\n",
       "    </tr>\n",
       "    <tr>\n",
       "      <th>30</th>\n",
       "      <td>1992</td>\n",
       "      <td>4.15</td>\n",
       "    </tr>\n",
       "    <tr>\n",
       "      <th>31</th>\n",
       "      <td>1991</td>\n",
       "      <td>4.21</td>\n",
       "    </tr>\n",
       "    <tr>\n",
       "      <th>32</th>\n",
       "      <td>1990</td>\n",
       "      <td>4.22</td>\n",
       "    </tr>\n",
       "    <tr>\n",
       "      <th>33</th>\n",
       "      <td>1989*</td>\n",
       "      <td>3.99</td>\n",
       "    </tr>\n",
       "    <tr>\n",
       "      <th>34</th>\n",
       "      <td>1988</td>\n",
       "      <td>4.11</td>\n",
       "    </tr>\n",
       "    <tr>\n",
       "      <th>35</th>\n",
       "      <td>1987</td>\n",
       "      <td>3.91</td>\n",
       "    </tr>\n",
       "    <tr>\n",
       "      <th>36</th>\n",
       "      <td>1986</td>\n",
       "      <td>3.71</td>\n",
       "    </tr>\n",
       "    <tr>\n",
       "      <th>37</th>\n",
       "      <td>1985</td>\n",
       "      <td>3.55</td>\n",
       "    </tr>\n",
       "    <tr>\n",
       "      <th>38</th>\n",
       "      <td>1984</td>\n",
       "      <td>3.36</td>\n",
       "    </tr>\n",
       "    <tr>\n",
       "      <th>39</th>\n",
       "      <td>1983</td>\n",
       "      <td>3.15</td>\n",
       "    </tr>\n",
       "    <tr>\n",
       "      <th>40</th>\n",
       "      <td>1982</td>\n",
       "      <td>2.94</td>\n",
       "    </tr>\n",
       "    <tr>\n",
       "      <th>41</th>\n",
       "      <td>1981</td>\n",
       "      <td>2.78</td>\n",
       "    </tr>\n",
       "    <tr>\n",
       "      <th>42</th>\n",
       "      <td>1980</td>\n",
       "      <td>2.69</td>\n",
       "    </tr>\n",
       "    <tr>\n",
       "      <th>43</th>\n",
       "      <td>1979</td>\n",
       "      <td>2.47</td>\n",
       "    </tr>\n",
       "    <tr>\n",
       "      <th>44</th>\n",
       "      <td>1978</td>\n",
       "      <td>2.34</td>\n",
       "    </tr>\n",
       "    <tr>\n",
       "      <th>45</th>\n",
       "      <td>1977</td>\n",
       "      <td>2.23</td>\n",
       "    </tr>\n",
       "    <tr>\n",
       "      <th>46</th>\n",
       "      <td>1976</td>\n",
       "      <td>2.13</td>\n",
       "    </tr>\n",
       "    <tr>\n",
       "      <th>47</th>\n",
       "      <td>1975</td>\n",
       "      <td>2.03</td>\n",
       "    </tr>\n",
       "    <tr>\n",
       "      <th>48</th>\n",
       "      <td>1974</td>\n",
       "      <td>1.89</td>\n",
       "    </tr>\n",
       "    <tr>\n",
       "      <th>49</th>\n",
       "      <td>1971</td>\n",
       "      <td>1.65</td>\n",
       "    </tr>\n",
       "    <tr>\n",
       "      <th>50</th>\n",
       "      <td>1967</td>\n",
       "      <td>1.22</td>\n",
       "    </tr>\n",
       "    <tr>\n",
       "      <th>51</th>\n",
       "      <td>1963</td>\n",
       "      <td>0.86</td>\n",
       "    </tr>\n",
       "    <tr>\n",
       "      <th>52</th>\n",
       "      <td>1958</td>\n",
       "      <td>0.68</td>\n",
       "    </tr>\n",
       "    <tr>\n",
       "      <th>53</th>\n",
       "      <td>1954</td>\n",
       "      <td>0.49</td>\n",
       "    </tr>\n",
       "    <tr>\n",
       "      <th>54</th>\n",
       "      <td>1948</td>\n",
       "      <td>0.36</td>\n",
       "    </tr>\n",
       "  </tbody>\n",
       "</table>\n",
       "</div>"
      ],
      "text/plain": [
       "     Year  Price\n",
       "0    2022  10.53\n",
       "1    2021  10.17\n",
       "2    2020   9.18\n",
       "3    2019   9.16\n",
       "4    2018   9.16\n",
       "5    2017   8.97\n",
       "6    2016   8.65\n",
       "7    2015   8.43\n",
       "8    2014   8.17\n",
       "9    2013   8.13\n",
       "10   2012   7.96\n",
       "11   2011   7.93\n",
       "12   2010   7.89\n",
       "13   2009   7.50\n",
       "14   2008   7.18\n",
       "15   2007   6.88\n",
       "16   2006   6.55\n",
       "17   2005   6.41\n",
       "18   2004   6.21\n",
       "19   2003   6.03\n",
       "20   2002   5.80\n",
       "21   2001   5.65\n",
       "22   2000   5.39\n",
       "23   1999   5.06\n",
       "24   1998   4.69\n",
       "25   1997   4.59\n",
       "26   1996   4.42\n",
       "27   1995   4.35\n",
       "28   1994   4.08\n",
       "29   1993   4.14\n",
       "30   1992   4.15\n",
       "31   1991   4.21\n",
       "32   1990   4.22\n",
       "33  1989*   3.99\n",
       "34   1988   4.11\n",
       "35   1987   3.91\n",
       "36   1986   3.71\n",
       "37   1985   3.55\n",
       "38   1984   3.36\n",
       "39   1983   3.15\n",
       "40   1982   2.94\n",
       "41   1981   2.78\n",
       "42   1980   2.69\n",
       "43   1979   2.47\n",
       "44   1978   2.34\n",
       "45   1977   2.23\n",
       "46   1976   2.13\n",
       "47   1975   2.03\n",
       "48   1974   1.89\n",
       "49   1971   1.65\n",
       "50   1967   1.22\n",
       "51   1963   0.86\n",
       "52   1958   0.68\n",
       "53   1954   0.49\n",
       "54   1948   0.36"
      ]
     },
     "execution_count": 40,
     "metadata": {},
     "output_type": "execute_result"
    }
   ],
   "source": [
    "df_movie_tickets_over_time"
   ]
  },
  {
   "cell_type": "markdown",
   "id": "6c3243b8-ccc9-4cab-9287-38fccc0664ee",
   "metadata": {},
   "source": [
    "**Use 'info()' for more information on the DataFrame**"
   ]
  },
  {
   "cell_type": "code",
   "execution_count": 41,
   "id": "9f60ca82-b683-4bfb-b6c5-ec8187e55d80",
   "metadata": {},
   "outputs": [
    {
     "name": "stdout",
     "output_type": "stream",
     "text": [
      "<class 'pandas.core.frame.DataFrame'>\n",
      "Index: 55 entries, 0 to 54\n",
      "Data columns (total 2 columns):\n",
      " #   Column  Non-Null Count  Dtype \n",
      "---  ------  --------------  ----- \n",
      " 0   Year    55 non-null     object\n",
      " 1   Price   55 non-null     object\n",
      "dtypes: object(2)\n",
      "memory usage: 1.3+ KB\n"
     ]
    }
   ],
   "source": [
    "df_movie_tickets_over_time.info()"
   ]
  },
  {
   "cell_type": "markdown",
   "id": "3b776fbf-ed1c-41d6-bbb0-9b2b04a60a02",
   "metadata": {},
   "source": [
    "**Remove the '\\*' character from the 1989 cell in the 'Year' column**"
   ]
  },
  {
   "cell_type": "code",
   "execution_count": 42,
   "id": "df9cbb89-a889-4b93-abce-d7a9b5a42706",
   "metadata": {},
   "outputs": [],
   "source": [
    "df_movie_tickets_over_time[\"Year\"] = df_movie_tickets_over_time[\"Year\"].str.replace(\"*\", \"\")"
   ]
  },
  {
   "cell_type": "markdown",
   "id": "2d19e537-9463-40c7-b053-091b8e39bf68",
   "metadata": {},
   "source": [
    "**Convert the datatype of the 'Year' column to int and the datatype of the 'Price' column to float using 'astype()'**"
   ]
  },
  {
   "cell_type": "code",
   "execution_count": 43,
   "id": "3830c052-dd2a-4ce3-8f6f-a4496e56559d",
   "metadata": {},
   "outputs": [],
   "source": [
    "df_movie_tickets_over_time = df_movie_tickets_over_time.astype({\"Year\": \"int64\", \"Price\": \"float64\"})"
   ]
  },
  {
   "cell_type": "markdown",
   "id": "2bb6a1f7-b7d6-4104-88b4-cd8518ccb641",
   "metadata": {},
   "source": [
    "**Drop the rows that contain data prior to 1980 and create a copy of the new DataFrame**"
   ]
  },
  {
   "cell_type": "code",
   "execution_count": 44,
   "id": "a5ae615a-b2f9-4364-9144-05731d37d7d0",
   "metadata": {},
   "outputs": [],
   "source": [
    "df_movie_tickets_over_time_2 = df_movie_tickets_over_time[df_movie_tickets_over_time[\"Year\"] >= 1980].copy(deep=True)"
   ]
  },
  {
   "cell_type": "markdown",
   "id": "45b9c5c6-cb26-4cbc-a251-f110f623d1e0",
   "metadata": {},
   "source": [
    "**Rearrange the Dataframe and use 'pct_change' to find the percent of change in average ticket prices from year to year**"
   ]
  },
  {
   "cell_type": "code",
   "execution_count": 45,
   "id": "4be33b4d-7f57-4946-871d-787245e42a3d",
   "metadata": {},
   "outputs": [],
   "source": [
    "df_movie_tickets_over_time_2.sort_values(by=\"Year\", inplace=True, ignore_index=True)\n",
    "\n",
    "df_movie_tickets_over_time_2[\"ticket_pct_change\"] = df_movie_tickets_over_time_2[\"Price\"].pct_change() * 100"
   ]
  },
  {
   "cell_type": "markdown",
   "id": "4b38fca1-49d6-400a-813f-f27ac02d582a",
   "metadata": {},
   "source": [
    "**Check the DataFrame**"
   ]
  },
  {
   "cell_type": "code",
   "execution_count": 46,
   "id": "a54f23cd-7217-4ebd-abbc-fd83e45bd315",
   "metadata": {},
   "outputs": [
    {
     "data": {
      "text/html": [
       "<div>\n",
       "<style scoped>\n",
       "    .dataframe tbody tr th:only-of-type {\n",
       "        vertical-align: middle;\n",
       "    }\n",
       "\n",
       "    .dataframe tbody tr th {\n",
       "        vertical-align: top;\n",
       "    }\n",
       "\n",
       "    .dataframe thead th {\n",
       "        text-align: right;\n",
       "    }\n",
       "</style>\n",
       "<table border=\"1\" class=\"dataframe\">\n",
       "  <thead>\n",
       "    <tr style=\"text-align: right;\">\n",
       "      <th></th>\n",
       "      <th>Year</th>\n",
       "      <th>Price</th>\n",
       "      <th>ticket_pct_change</th>\n",
       "    </tr>\n",
       "  </thead>\n",
       "  <tbody>\n",
       "    <tr>\n",
       "      <th>0</th>\n",
       "      <td>1980</td>\n",
       "      <td>2.69</td>\n",
       "      <td>NaN</td>\n",
       "    </tr>\n",
       "    <tr>\n",
       "      <th>1</th>\n",
       "      <td>1981</td>\n",
       "      <td>2.78</td>\n",
       "      <td>3.35</td>\n",
       "    </tr>\n",
       "    <tr>\n",
       "      <th>2</th>\n",
       "      <td>1982</td>\n",
       "      <td>2.94</td>\n",
       "      <td>5.76</td>\n",
       "    </tr>\n",
       "    <tr>\n",
       "      <th>3</th>\n",
       "      <td>1983</td>\n",
       "      <td>3.15</td>\n",
       "      <td>7.14</td>\n",
       "    </tr>\n",
       "    <tr>\n",
       "      <th>4</th>\n",
       "      <td>1984</td>\n",
       "      <td>3.36</td>\n",
       "      <td>6.67</td>\n",
       "    </tr>\n",
       "    <tr>\n",
       "      <th>5</th>\n",
       "      <td>1985</td>\n",
       "      <td>3.55</td>\n",
       "      <td>5.65</td>\n",
       "    </tr>\n",
       "    <tr>\n",
       "      <th>6</th>\n",
       "      <td>1986</td>\n",
       "      <td>3.71</td>\n",
       "      <td>4.51</td>\n",
       "    </tr>\n",
       "    <tr>\n",
       "      <th>7</th>\n",
       "      <td>1987</td>\n",
       "      <td>3.91</td>\n",
       "      <td>5.39</td>\n",
       "    </tr>\n",
       "    <tr>\n",
       "      <th>8</th>\n",
       "      <td>1988</td>\n",
       "      <td>4.11</td>\n",
       "      <td>5.12</td>\n",
       "    </tr>\n",
       "    <tr>\n",
       "      <th>9</th>\n",
       "      <td>1989</td>\n",
       "      <td>3.99</td>\n",
       "      <td>-2.92</td>\n",
       "    </tr>\n",
       "    <tr>\n",
       "      <th>10</th>\n",
       "      <td>1990</td>\n",
       "      <td>4.22</td>\n",
       "      <td>5.76</td>\n",
       "    </tr>\n",
       "    <tr>\n",
       "      <th>11</th>\n",
       "      <td>1991</td>\n",
       "      <td>4.21</td>\n",
       "      <td>-0.24</td>\n",
       "    </tr>\n",
       "    <tr>\n",
       "      <th>12</th>\n",
       "      <td>1992</td>\n",
       "      <td>4.15</td>\n",
       "      <td>-1.43</td>\n",
       "    </tr>\n",
       "    <tr>\n",
       "      <th>13</th>\n",
       "      <td>1993</td>\n",
       "      <td>4.14</td>\n",
       "      <td>-0.24</td>\n",
       "    </tr>\n",
       "    <tr>\n",
       "      <th>14</th>\n",
       "      <td>1994</td>\n",
       "      <td>4.08</td>\n",
       "      <td>-1.45</td>\n",
       "    </tr>\n",
       "    <tr>\n",
       "      <th>15</th>\n",
       "      <td>1995</td>\n",
       "      <td>4.35</td>\n",
       "      <td>6.62</td>\n",
       "    </tr>\n",
       "    <tr>\n",
       "      <th>16</th>\n",
       "      <td>1996</td>\n",
       "      <td>4.42</td>\n",
       "      <td>1.61</td>\n",
       "    </tr>\n",
       "    <tr>\n",
       "      <th>17</th>\n",
       "      <td>1997</td>\n",
       "      <td>4.59</td>\n",
       "      <td>3.85</td>\n",
       "    </tr>\n",
       "    <tr>\n",
       "      <th>18</th>\n",
       "      <td>1998</td>\n",
       "      <td>4.69</td>\n",
       "      <td>2.18</td>\n",
       "    </tr>\n",
       "    <tr>\n",
       "      <th>19</th>\n",
       "      <td>1999</td>\n",
       "      <td>5.06</td>\n",
       "      <td>7.89</td>\n",
       "    </tr>\n",
       "    <tr>\n",
       "      <th>20</th>\n",
       "      <td>2000</td>\n",
       "      <td>5.39</td>\n",
       "      <td>6.52</td>\n",
       "    </tr>\n",
       "    <tr>\n",
       "      <th>21</th>\n",
       "      <td>2001</td>\n",
       "      <td>5.65</td>\n",
       "      <td>4.82</td>\n",
       "    </tr>\n",
       "    <tr>\n",
       "      <th>22</th>\n",
       "      <td>2002</td>\n",
       "      <td>5.80</td>\n",
       "      <td>2.65</td>\n",
       "    </tr>\n",
       "    <tr>\n",
       "      <th>23</th>\n",
       "      <td>2003</td>\n",
       "      <td>6.03</td>\n",
       "      <td>3.97</td>\n",
       "    </tr>\n",
       "    <tr>\n",
       "      <th>24</th>\n",
       "      <td>2004</td>\n",
       "      <td>6.21</td>\n",
       "      <td>2.99</td>\n",
       "    </tr>\n",
       "    <tr>\n",
       "      <th>25</th>\n",
       "      <td>2005</td>\n",
       "      <td>6.41</td>\n",
       "      <td>3.22</td>\n",
       "    </tr>\n",
       "    <tr>\n",
       "      <th>26</th>\n",
       "      <td>2006</td>\n",
       "      <td>6.55</td>\n",
       "      <td>2.18</td>\n",
       "    </tr>\n",
       "    <tr>\n",
       "      <th>27</th>\n",
       "      <td>2007</td>\n",
       "      <td>6.88</td>\n",
       "      <td>5.04</td>\n",
       "    </tr>\n",
       "    <tr>\n",
       "      <th>28</th>\n",
       "      <td>2008</td>\n",
       "      <td>7.18</td>\n",
       "      <td>4.36</td>\n",
       "    </tr>\n",
       "    <tr>\n",
       "      <th>29</th>\n",
       "      <td>2009</td>\n",
       "      <td>7.50</td>\n",
       "      <td>4.46</td>\n",
       "    </tr>\n",
       "    <tr>\n",
       "      <th>30</th>\n",
       "      <td>2010</td>\n",
       "      <td>7.89</td>\n",
       "      <td>5.20</td>\n",
       "    </tr>\n",
       "    <tr>\n",
       "      <th>31</th>\n",
       "      <td>2011</td>\n",
       "      <td>7.93</td>\n",
       "      <td>0.51</td>\n",
       "    </tr>\n",
       "    <tr>\n",
       "      <th>32</th>\n",
       "      <td>2012</td>\n",
       "      <td>7.96</td>\n",
       "      <td>0.38</td>\n",
       "    </tr>\n",
       "    <tr>\n",
       "      <th>33</th>\n",
       "      <td>2013</td>\n",
       "      <td>8.13</td>\n",
       "      <td>2.14</td>\n",
       "    </tr>\n",
       "    <tr>\n",
       "      <th>34</th>\n",
       "      <td>2014</td>\n",
       "      <td>8.17</td>\n",
       "      <td>0.49</td>\n",
       "    </tr>\n",
       "    <tr>\n",
       "      <th>35</th>\n",
       "      <td>2015</td>\n",
       "      <td>8.43</td>\n",
       "      <td>3.18</td>\n",
       "    </tr>\n",
       "    <tr>\n",
       "      <th>36</th>\n",
       "      <td>2016</td>\n",
       "      <td>8.65</td>\n",
       "      <td>2.61</td>\n",
       "    </tr>\n",
       "    <tr>\n",
       "      <th>37</th>\n",
       "      <td>2017</td>\n",
       "      <td>8.97</td>\n",
       "      <td>3.70</td>\n",
       "    </tr>\n",
       "    <tr>\n",
       "      <th>38</th>\n",
       "      <td>2018</td>\n",
       "      <td>9.16</td>\n",
       "      <td>2.12</td>\n",
       "    </tr>\n",
       "    <tr>\n",
       "      <th>39</th>\n",
       "      <td>2019</td>\n",
       "      <td>9.16</td>\n",
       "      <td>0.00</td>\n",
       "    </tr>\n",
       "    <tr>\n",
       "      <th>40</th>\n",
       "      <td>2020</td>\n",
       "      <td>9.18</td>\n",
       "      <td>0.22</td>\n",
       "    </tr>\n",
       "    <tr>\n",
       "      <th>41</th>\n",
       "      <td>2021</td>\n",
       "      <td>10.17</td>\n",
       "      <td>10.78</td>\n",
       "    </tr>\n",
       "    <tr>\n",
       "      <th>42</th>\n",
       "      <td>2022</td>\n",
       "      <td>10.53</td>\n",
       "      <td>3.54</td>\n",
       "    </tr>\n",
       "  </tbody>\n",
       "</table>\n",
       "</div>"
      ],
      "text/plain": [
       "    Year  Price  ticket_pct_change\n",
       "0   1980   2.69                NaN\n",
       "1   1981   2.78               3.35\n",
       "2   1982   2.94               5.76\n",
       "3   1983   3.15               7.14\n",
       "4   1984   3.36               6.67\n",
       "5   1985   3.55               5.65\n",
       "6   1986   3.71               4.51\n",
       "7   1987   3.91               5.39\n",
       "8   1988   4.11               5.12\n",
       "9   1989   3.99              -2.92\n",
       "10  1990   4.22               5.76\n",
       "11  1991   4.21              -0.24\n",
       "12  1992   4.15              -1.43\n",
       "13  1993   4.14              -0.24\n",
       "14  1994   4.08              -1.45\n",
       "15  1995   4.35               6.62\n",
       "16  1996   4.42               1.61\n",
       "17  1997   4.59               3.85\n",
       "18  1998   4.69               2.18\n",
       "19  1999   5.06               7.89\n",
       "20  2000   5.39               6.52\n",
       "21  2001   5.65               4.82\n",
       "22  2002   5.80               2.65\n",
       "23  2003   6.03               3.97\n",
       "24  2004   6.21               2.99\n",
       "25  2005   6.41               3.22\n",
       "26  2006   6.55               2.18\n",
       "27  2007   6.88               5.04\n",
       "28  2008   7.18               4.36\n",
       "29  2009   7.50               4.46\n",
       "30  2010   7.89               5.20\n",
       "31  2011   7.93               0.51\n",
       "32  2012   7.96               0.38\n",
       "33  2013   8.13               2.14\n",
       "34  2014   8.17               0.49\n",
       "35  2015   8.43               3.18\n",
       "36  2016   8.65               2.61\n",
       "37  2017   8.97               3.70\n",
       "38  2018   9.16               2.12\n",
       "39  2019   9.16               0.00\n",
       "40  2020   9.18               0.22\n",
       "41  2021  10.17              10.78\n",
       "42  2022  10.53               3.54"
      ]
     },
     "execution_count": 46,
     "metadata": {},
     "output_type": "execute_result"
    }
   ],
   "source": [
    "df_movie_tickets_over_time_2"
   ]
  },
  {
   "cell_type": "markdown",
   "id": "685feb64-c45c-4a9e-a67f-70f2343d4fc9",
   "metadata": {},
   "source": [
    "**Set the 1980 percent to 0 (since it's the starting point of the DataFrame)**"
   ]
  },
  {
   "cell_type": "code",
   "execution_count": 47,
   "id": "a2a0c521-996c-4a9c-9bc8-3d9836489766",
   "metadata": {},
   "outputs": [],
   "source": [
    "df_movie_tickets_over_time_2[\"ticket_pct_change\"] = df_movie_tickets_over_time_2[\"ticket_pct_change\"].fillna(0)"
   ]
  },
  {
   "cell_type": "markdown",
   "id": "801d3aa3-8fa7-4e7c-88df-e1148980a313",
   "metadata": {},
   "source": [
    "*Before continuing with the inflation adjustment on the 'gross' column, we need to mention a few important details about movie earnings\\\n",
    "Popular movies tend to be re-released to theaters from time to time, creating discrepancies in the method used to estimate the effects of inflation\\\n",
    "(since we cannot know exactly when newer ticket earnings got aggregated)\\\n",
    "For this reason, we assume that the gross earnings of each movie in the dataset, were accumulated as a whole, during the year of each movie's release*"
   ]
  },
  {
   "cell_type": "markdown",
   "id": "49064be8-6266-45c6-875e-c19a31f50f13",
   "metadata": {},
   "source": [
    "**Calculate the average of the ticket price changes**"
   ]
  },
  {
   "cell_type": "code",
   "execution_count": 48,
   "id": "7d005e21-9b88-49ea-a450-db2bbe253c98",
   "metadata": {},
   "outputs": [
    {
     "name": "stdout",
     "output_type": "stream",
     "text": [
      "Ticket prices from 1980 to 2022 have been increasing by an average of 3.26% per year.\n"
     ]
    }
   ],
   "source": [
    "avg_pct_change_ticket_prices = df_movie_tickets_over_time_2[\"ticket_pct_change\"].mean().round(2)\n",
    "print(f\"Ticket prices from 1980 to 2022 have been increasing by an average of {avg_pct_change_ticket_prices}% per year.\")"
   ]
  },
  {
   "cell_type": "markdown",
   "id": "90b7afe2-e5e2-4454-b15c-4817927b554f",
   "metadata": {},
   "source": [
    "**Use exponential powers to find the average inflation adjustment for each year**"
   ]
  },
  {
   "cell_type": "markdown",
   "id": "09bd18a6-f68d-41c6-9bc0-24d5a610abe4",
   "metadata": {},
   "source": [
    "*The base of the exponential factor is 1.0326 (or the assumed inflation rate of .0326 plus 1)*"
   ]
  },
  {
   "cell_type": "markdown",
   "id": "157a27f9-372b-4559-a672-090dbd27fa66",
   "metadata": {},
   "source": [
    "*The number of times this base is multiplied by itself is the power,\\\n",
    "so we need to calculate the time difference between the date each movie was released and 2022 in years*"
   ]
  },
  {
   "cell_type": "code",
   "execution_count": 49,
   "id": "c8b1b34d-5bd9-491d-a542-a4ec9d798b4d",
   "metadata": {},
   "outputs": [],
   "source": [
    "df_movie_tickets_over_time_2[\"annual_ticket_infl_adj\"] = (1.0326 ** (2022 - df_movie_tickets_over_time_2[\"Year\"]))"
   ]
  },
  {
   "cell_type": "code",
   "execution_count": 50,
   "id": "8a660e00-76eb-4682-b7ec-4a3e98f992ab",
   "metadata": {},
   "outputs": [
    {
     "data": {
      "text/html": [
       "<div>\n",
       "<style scoped>\n",
       "    .dataframe tbody tr th:only-of-type {\n",
       "        vertical-align: middle;\n",
       "    }\n",
       "\n",
       "    .dataframe tbody tr th {\n",
       "        vertical-align: top;\n",
       "    }\n",
       "\n",
       "    .dataframe thead th {\n",
       "        text-align: right;\n",
       "    }\n",
       "</style>\n",
       "<table border=\"1\" class=\"dataframe\">\n",
       "  <thead>\n",
       "    <tr style=\"text-align: right;\">\n",
       "      <th></th>\n",
       "      <th>Year</th>\n",
       "      <th>Price</th>\n",
       "      <th>ticket_pct_change</th>\n",
       "      <th>annual_ticket_infl_adj</th>\n",
       "    </tr>\n",
       "  </thead>\n",
       "  <tbody>\n",
       "    <tr>\n",
       "      <th>0</th>\n",
       "      <td>1980</td>\n",
       "      <td>2.69</td>\n",
       "      <td>0.00</td>\n",
       "      <td>3.85</td>\n",
       "    </tr>\n",
       "    <tr>\n",
       "      <th>1</th>\n",
       "      <td>1981</td>\n",
       "      <td>2.78</td>\n",
       "      <td>3.35</td>\n",
       "      <td>3.73</td>\n",
       "    </tr>\n",
       "    <tr>\n",
       "      <th>2</th>\n",
       "      <td>1982</td>\n",
       "      <td>2.94</td>\n",
       "      <td>5.76</td>\n",
       "      <td>3.61</td>\n",
       "    </tr>\n",
       "    <tr>\n",
       "      <th>3</th>\n",
       "      <td>1983</td>\n",
       "      <td>3.15</td>\n",
       "      <td>7.14</td>\n",
       "      <td>3.49</td>\n",
       "    </tr>\n",
       "    <tr>\n",
       "      <th>4</th>\n",
       "      <td>1984</td>\n",
       "      <td>3.36</td>\n",
       "      <td>6.67</td>\n",
       "      <td>3.38</td>\n",
       "    </tr>\n",
       "    <tr>\n",
       "      <th>5</th>\n",
       "      <td>1985</td>\n",
       "      <td>3.55</td>\n",
       "      <td>5.65</td>\n",
       "      <td>3.28</td>\n",
       "    </tr>\n",
       "    <tr>\n",
       "      <th>6</th>\n",
       "      <td>1986</td>\n",
       "      <td>3.71</td>\n",
       "      <td>4.51</td>\n",
       "      <td>3.17</td>\n",
       "    </tr>\n",
       "    <tr>\n",
       "      <th>7</th>\n",
       "      <td>1987</td>\n",
       "      <td>3.91</td>\n",
       "      <td>5.39</td>\n",
       "      <td>3.07</td>\n",
       "    </tr>\n",
       "    <tr>\n",
       "      <th>8</th>\n",
       "      <td>1988</td>\n",
       "      <td>4.11</td>\n",
       "      <td>5.12</td>\n",
       "      <td>2.98</td>\n",
       "    </tr>\n",
       "    <tr>\n",
       "      <th>9</th>\n",
       "      <td>1989</td>\n",
       "      <td>3.99</td>\n",
       "      <td>-2.92</td>\n",
       "      <td>2.88</td>\n",
       "    </tr>\n",
       "    <tr>\n",
       "      <th>10</th>\n",
       "      <td>1990</td>\n",
       "      <td>4.22</td>\n",
       "      <td>5.76</td>\n",
       "      <td>2.79</td>\n",
       "    </tr>\n",
       "    <tr>\n",
       "      <th>11</th>\n",
       "      <td>1991</td>\n",
       "      <td>4.21</td>\n",
       "      <td>-0.24</td>\n",
       "      <td>2.70</td>\n",
       "    </tr>\n",
       "    <tr>\n",
       "      <th>12</th>\n",
       "      <td>1992</td>\n",
       "      <td>4.15</td>\n",
       "      <td>-1.43</td>\n",
       "      <td>2.62</td>\n",
       "    </tr>\n",
       "    <tr>\n",
       "      <th>13</th>\n",
       "      <td>1993</td>\n",
       "      <td>4.14</td>\n",
       "      <td>-0.24</td>\n",
       "      <td>2.54</td>\n",
       "    </tr>\n",
       "    <tr>\n",
       "      <th>14</th>\n",
       "      <td>1994</td>\n",
       "      <td>4.08</td>\n",
       "      <td>-1.45</td>\n",
       "      <td>2.46</td>\n",
       "    </tr>\n",
       "    <tr>\n",
       "      <th>15</th>\n",
       "      <td>1995</td>\n",
       "      <td>4.35</td>\n",
       "      <td>6.62</td>\n",
       "      <td>2.38</td>\n",
       "    </tr>\n",
       "    <tr>\n",
       "      <th>16</th>\n",
       "      <td>1996</td>\n",
       "      <td>4.42</td>\n",
       "      <td>1.61</td>\n",
       "      <td>2.30</td>\n",
       "    </tr>\n",
       "    <tr>\n",
       "      <th>17</th>\n",
       "      <td>1997</td>\n",
       "      <td>4.59</td>\n",
       "      <td>3.85</td>\n",
       "      <td>2.23</td>\n",
       "    </tr>\n",
       "    <tr>\n",
       "      <th>18</th>\n",
       "      <td>1998</td>\n",
       "      <td>4.69</td>\n",
       "      <td>2.18</td>\n",
       "      <td>2.16</td>\n",
       "    </tr>\n",
       "    <tr>\n",
       "      <th>19</th>\n",
       "      <td>1999</td>\n",
       "      <td>5.06</td>\n",
       "      <td>7.89</td>\n",
       "      <td>2.09</td>\n",
       "    </tr>\n",
       "    <tr>\n",
       "      <th>20</th>\n",
       "      <td>2000</td>\n",
       "      <td>5.39</td>\n",
       "      <td>6.52</td>\n",
       "      <td>2.03</td>\n",
       "    </tr>\n",
       "    <tr>\n",
       "      <th>21</th>\n",
       "      <td>2001</td>\n",
       "      <td>5.65</td>\n",
       "      <td>4.82</td>\n",
       "      <td>1.96</td>\n",
       "    </tr>\n",
       "    <tr>\n",
       "      <th>22</th>\n",
       "      <td>2002</td>\n",
       "      <td>5.80</td>\n",
       "      <td>2.65</td>\n",
       "      <td>1.90</td>\n",
       "    </tr>\n",
       "    <tr>\n",
       "      <th>23</th>\n",
       "      <td>2003</td>\n",
       "      <td>6.03</td>\n",
       "      <td>3.97</td>\n",
       "      <td>1.84</td>\n",
       "    </tr>\n",
       "    <tr>\n",
       "      <th>24</th>\n",
       "      <td>2004</td>\n",
       "      <td>6.21</td>\n",
       "      <td>2.99</td>\n",
       "      <td>1.78</td>\n",
       "    </tr>\n",
       "    <tr>\n",
       "      <th>25</th>\n",
       "      <td>2005</td>\n",
       "      <td>6.41</td>\n",
       "      <td>3.22</td>\n",
       "      <td>1.73</td>\n",
       "    </tr>\n",
       "    <tr>\n",
       "      <th>26</th>\n",
       "      <td>2006</td>\n",
       "      <td>6.55</td>\n",
       "      <td>2.18</td>\n",
       "      <td>1.67</td>\n",
       "    </tr>\n",
       "    <tr>\n",
       "      <th>27</th>\n",
       "      <td>2007</td>\n",
       "      <td>6.88</td>\n",
       "      <td>5.04</td>\n",
       "      <td>1.62</td>\n",
       "    </tr>\n",
       "    <tr>\n",
       "      <th>28</th>\n",
       "      <td>2008</td>\n",
       "      <td>7.18</td>\n",
       "      <td>4.36</td>\n",
       "      <td>1.57</td>\n",
       "    </tr>\n",
       "    <tr>\n",
       "      <th>29</th>\n",
       "      <td>2009</td>\n",
       "      <td>7.50</td>\n",
       "      <td>4.46</td>\n",
       "      <td>1.52</td>\n",
       "    </tr>\n",
       "    <tr>\n",
       "      <th>30</th>\n",
       "      <td>2010</td>\n",
       "      <td>7.89</td>\n",
       "      <td>5.20</td>\n",
       "      <td>1.47</td>\n",
       "    </tr>\n",
       "    <tr>\n",
       "      <th>31</th>\n",
       "      <td>2011</td>\n",
       "      <td>7.93</td>\n",
       "      <td>0.51</td>\n",
       "      <td>1.42</td>\n",
       "    </tr>\n",
       "    <tr>\n",
       "      <th>32</th>\n",
       "      <td>2012</td>\n",
       "      <td>7.96</td>\n",
       "      <td>0.38</td>\n",
       "      <td>1.38</td>\n",
       "    </tr>\n",
       "    <tr>\n",
       "      <th>33</th>\n",
       "      <td>2013</td>\n",
       "      <td>8.13</td>\n",
       "      <td>2.14</td>\n",
       "      <td>1.33</td>\n",
       "    </tr>\n",
       "    <tr>\n",
       "      <th>34</th>\n",
       "      <td>2014</td>\n",
       "      <td>8.17</td>\n",
       "      <td>0.49</td>\n",
       "      <td>1.29</td>\n",
       "    </tr>\n",
       "    <tr>\n",
       "      <th>35</th>\n",
       "      <td>2015</td>\n",
       "      <td>8.43</td>\n",
       "      <td>3.18</td>\n",
       "      <td>1.25</td>\n",
       "    </tr>\n",
       "    <tr>\n",
       "      <th>36</th>\n",
       "      <td>2016</td>\n",
       "      <td>8.65</td>\n",
       "      <td>2.61</td>\n",
       "      <td>1.21</td>\n",
       "    </tr>\n",
       "    <tr>\n",
       "      <th>37</th>\n",
       "      <td>2017</td>\n",
       "      <td>8.97</td>\n",
       "      <td>3.70</td>\n",
       "      <td>1.17</td>\n",
       "    </tr>\n",
       "    <tr>\n",
       "      <th>38</th>\n",
       "      <td>2018</td>\n",
       "      <td>9.16</td>\n",
       "      <td>2.12</td>\n",
       "      <td>1.14</td>\n",
       "    </tr>\n",
       "    <tr>\n",
       "      <th>39</th>\n",
       "      <td>2019</td>\n",
       "      <td>9.16</td>\n",
       "      <td>0.00</td>\n",
       "      <td>1.10</td>\n",
       "    </tr>\n",
       "    <tr>\n",
       "      <th>40</th>\n",
       "      <td>2020</td>\n",
       "      <td>9.18</td>\n",
       "      <td>0.22</td>\n",
       "      <td>1.07</td>\n",
       "    </tr>\n",
       "    <tr>\n",
       "      <th>41</th>\n",
       "      <td>2021</td>\n",
       "      <td>10.17</td>\n",
       "      <td>10.78</td>\n",
       "      <td>1.03</td>\n",
       "    </tr>\n",
       "    <tr>\n",
       "      <th>42</th>\n",
       "      <td>2022</td>\n",
       "      <td>10.53</td>\n",
       "      <td>3.54</td>\n",
       "      <td>1.00</td>\n",
       "    </tr>\n",
       "  </tbody>\n",
       "</table>\n",
       "</div>"
      ],
      "text/plain": [
       "    Year  Price  ticket_pct_change  annual_ticket_infl_adj\n",
       "0   1980   2.69               0.00                    3.85\n",
       "1   1981   2.78               3.35                    3.73\n",
       "2   1982   2.94               5.76                    3.61\n",
       "3   1983   3.15               7.14                    3.49\n",
       "4   1984   3.36               6.67                    3.38\n",
       "5   1985   3.55               5.65                    3.28\n",
       "6   1986   3.71               4.51                    3.17\n",
       "7   1987   3.91               5.39                    3.07\n",
       "8   1988   4.11               5.12                    2.98\n",
       "9   1989   3.99              -2.92                    2.88\n",
       "10  1990   4.22               5.76                    2.79\n",
       "11  1991   4.21              -0.24                    2.70\n",
       "12  1992   4.15              -1.43                    2.62\n",
       "13  1993   4.14              -0.24                    2.54\n",
       "14  1994   4.08              -1.45                    2.46\n",
       "15  1995   4.35               6.62                    2.38\n",
       "16  1996   4.42               1.61                    2.30\n",
       "17  1997   4.59               3.85                    2.23\n",
       "18  1998   4.69               2.18                    2.16\n",
       "19  1999   5.06               7.89                    2.09\n",
       "20  2000   5.39               6.52                    2.03\n",
       "21  2001   5.65               4.82                    1.96\n",
       "22  2002   5.80               2.65                    1.90\n",
       "23  2003   6.03               3.97                    1.84\n",
       "24  2004   6.21               2.99                    1.78\n",
       "25  2005   6.41               3.22                    1.73\n",
       "26  2006   6.55               2.18                    1.67\n",
       "27  2007   6.88               5.04                    1.62\n",
       "28  2008   7.18               4.36                    1.57\n",
       "29  2009   7.50               4.46                    1.52\n",
       "30  2010   7.89               5.20                    1.47\n",
       "31  2011   7.93               0.51                    1.42\n",
       "32  2012   7.96               0.38                    1.38\n",
       "33  2013   8.13               2.14                    1.33\n",
       "34  2014   8.17               0.49                    1.29\n",
       "35  2015   8.43               3.18                    1.25\n",
       "36  2016   8.65               2.61                    1.21\n",
       "37  2017   8.97               3.70                    1.17\n",
       "38  2018   9.16               2.12                    1.14\n",
       "39  2019   9.16               0.00                    1.10\n",
       "40  2020   9.18               0.22                    1.07\n",
       "41  2021  10.17              10.78                    1.03\n",
       "42  2022  10.53               3.54                    1.00"
      ]
     },
     "execution_count": 50,
     "metadata": {},
     "output_type": "execute_result"
    }
   ],
   "source": [
    "df_movie_tickets_over_time_2"
   ]
  },
  {
   "cell_type": "markdown",
   "id": "d02d37d3-40ee-4768-89ac-7b74e2fcd33a",
   "metadata": {},
   "source": [
    "**Create a new DataFrame that adds the new column to the 'df_movies' Dataframe using 'merge'**"
   ]
  },
  {
   "cell_type": "markdown",
   "id": "075f7237-3614-460c-bd12-49b50bbb52e2",
   "metadata": {},
   "source": [
    "*Rename the 'Year' column to 'release_year' to merge the two DataFrames*"
   ]
  },
  {
   "cell_type": "code",
   "execution_count": 51,
   "id": "1317af98-b1ca-4c29-ac52-fb9430535b9b",
   "metadata": {},
   "outputs": [],
   "source": [
    "df_movie_tickets_over_time_2.rename(columns = {\"Year\": \"release_year\"}, inplace = True)"
   ]
  },
  {
   "cell_type": "code",
   "execution_count": 52,
   "id": "1aac222f-819c-4469-8afb-41ac243dc5a7",
   "metadata": {},
   "outputs": [],
   "source": [
    "df_movies_merged = df_movies.merge(df_movie_tickets_over_time_2[[\"release_year\", \"annual_ticket_infl_adj\"]], on=\"release_year\", how=\"left\")"
   ]
  },
  {
   "cell_type": "markdown",
   "id": "875b0bec-786a-4b8d-9595-89142d808880",
   "metadata": {},
   "source": [
    "**Adjust the 'gross' column for inflation**"
   ]
  },
  {
   "cell_type": "code",
   "execution_count": 53,
   "id": "04e687c2-1b21-46bc-89e9-12ff79e29206",
   "metadata": {},
   "outputs": [],
   "source": [
    "df_movies_merged[\"infl_adj_gross\"] = df_movies_merged[\"gross\"] * df_movies_merged[\"annual_ticket_infl_adj\"]"
   ]
  },
  {
   "cell_type": "markdown",
   "id": "b4cbab6f-c402-4d56-8393-e155cf2b0402",
   "metadata": {},
   "source": [
    "**Convert the datatype of columns 'infl_adj_budget' and 'infl_adj_gross' to int using 'astype()'**"
   ]
  },
  {
   "cell_type": "code",
   "execution_count": 54,
   "id": "97b9f2d9-38d9-4d9d-8806-d3451fa8d46b",
   "metadata": {},
   "outputs": [],
   "source": [
    "df_movies_merged = df_movies_merged.astype({\"infl_adj_budget\": \"int64\", \"infl_adj_gross\": \"int64\"})"
   ]
  },
  {
   "cell_type": "markdown",
   "id": "0a3bae9a-570d-4ff5-bca4-e9a58b45ef6c",
   "metadata": {},
   "source": [
    "**Check the columns before and after inflation adjustmen**"
   ]
  },
  {
   "cell_type": "code",
   "execution_count": 56,
   "id": "81b1abf8-9d7b-44bf-90e7-c28dfe612c84",
   "metadata": {},
   "outputs": [
    {
     "data": {
      "text/html": [
       "<div>\n",
       "<style scoped>\n",
       "    .dataframe tbody tr th:only-of-type {\n",
       "        vertical-align: middle;\n",
       "    }\n",
       "\n",
       "    .dataframe tbody tr th {\n",
       "        vertical-align: top;\n",
       "    }\n",
       "\n",
       "    .dataframe thead th {\n",
       "        text-align: right;\n",
       "    }\n",
       "</style>\n",
       "<table border=\"1\" class=\"dataframe\">\n",
       "  <thead>\n",
       "    <tr style=\"text-align: right;\">\n",
       "      <th></th>\n",
       "      <th>name</th>\n",
       "      <th>budget</th>\n",
       "      <th>infl_adj_budget</th>\n",
       "      <th>gross</th>\n",
       "      <th>infl_adj_gross</th>\n",
       "    </tr>\n",
       "  </thead>\n",
       "  <tbody>\n",
       "    <tr>\n",
       "      <th>3009</th>\n",
       "      <td>Titanic</td>\n",
       "      <td>200000000</td>\n",
       "      <td>363871386</td>\n",
       "      <td>2201647264</td>\n",
       "      <td>4909652538</td>\n",
       "    </tr>\n",
       "    <tr>\n",
       "      <th>5390</th>\n",
       "      <td>Avatar</td>\n",
       "      <td>237000000</td>\n",
       "      <td>333369658</td>\n",
       "      <td>2847246203</td>\n",
       "      <td>4320585379</td>\n",
       "    </tr>\n",
       "    <tr>\n",
       "      <th>7381</th>\n",
       "      <td>Avengers: Endgame</td>\n",
       "      <td>356000000</td>\n",
       "      <td>417093647</td>\n",
       "      <td>2797501328</td>\n",
       "      <td>3080113097</td>\n",
       "    </tr>\n",
       "    <tr>\n",
       "      <th>206</th>\n",
       "      <td>E.T. the Extra-Terrestrial</td>\n",
       "      <td>10500000</td>\n",
       "      <td>33799587</td>\n",
       "      <td>792910554</td>\n",
       "      <td>2860941825</td>\n",
       "    </tr>\n",
       "    <tr>\n",
       "      <th>2414</th>\n",
       "      <td>The Lion King</td>\n",
       "      <td>45000000</td>\n",
       "      <td>88671853</td>\n",
       "      <td>1083720877</td>\n",
       "      <td>2660828108</td>\n",
       "    </tr>\n",
       "    <tr>\n",
       "      <th>2214</th>\n",
       "      <td>Jurassic Park</td>\n",
       "      <td>63000000</td>\n",
       "      <td>127647851</td>\n",
       "      <td>1033928303</td>\n",
       "      <td>2621331368</td>\n",
       "    </tr>\n",
       "    <tr>\n",
       "      <th>6605</th>\n",
       "      <td>Star Wars: Episode VII - The Force Awakens</td>\n",
       "      <td>245000000</td>\n",
       "      <td>311885575</td>\n",
       "      <td>2069521700</td>\n",
       "      <td>2590567003</td>\n",
       "    </tr>\n",
       "    <tr>\n",
       "      <th>7181</th>\n",
       "      <td>Avengers: Infinity War</td>\n",
       "      <td>321000000</td>\n",
       "      <td>384331337</td>\n",
       "      <td>2048359754</td>\n",
       "      <td>2328813538</td>\n",
       "    </tr>\n",
       "    <tr>\n",
       "      <th>3409</th>\n",
       "      <td>Star Wars: Episode I - The Phantom Menace</td>\n",
       "      <td>115000000</td>\n",
       "      <td>200360536</td>\n",
       "      <td>1027082707</td>\n",
       "      <td>2148049046</td>\n",
       "    </tr>\n",
       "    <tr>\n",
       "      <th>4195</th>\n",
       "      <td>The Lord of the Rings: The Return of the King</td>\n",
       "      <td>94000000</td>\n",
       "      <td>150040445</td>\n",
       "      <td>1146030912</td>\n",
       "      <td>2108174838</td>\n",
       "    </tr>\n",
       "  </tbody>\n",
       "</table>\n",
       "</div>"
      ],
      "text/plain": [
       "                                               name     budget  \\\n",
       "3009                                        Titanic  200000000   \n",
       "5390                                         Avatar  237000000   \n",
       "7381                              Avengers: Endgame  356000000   \n",
       "206                      E.T. the Extra-Terrestrial   10500000   \n",
       "2414                                  The Lion King   45000000   \n",
       "2214                                  Jurassic Park   63000000   \n",
       "6605     Star Wars: Episode VII - The Force Awakens  245000000   \n",
       "7181                         Avengers: Infinity War  321000000   \n",
       "3409      Star Wars: Episode I - The Phantom Menace  115000000   \n",
       "4195  The Lord of the Rings: The Return of the King   94000000   \n",
       "\n",
       "      infl_adj_budget       gross  infl_adj_gross  \n",
       "3009        363871386  2201647264      4909652538  \n",
       "5390        333369658  2847246203      4320585379  \n",
       "7381        417093647  2797501328      3080113097  \n",
       "206          33799587   792910554      2860941825  \n",
       "2414         88671853  1083720877      2660828108  \n",
       "2214        127647851  1033928303      2621331368  \n",
       "6605        311885575  2069521700      2590567003  \n",
       "7181        384331337  2048359754      2328813538  \n",
       "3409        200360536  1027082707      2148049046  \n",
       "4195        150040445  1146030912      2108174838  "
      ]
     },
     "execution_count": 56,
     "metadata": {},
     "output_type": "execute_result"
    }
   ],
   "source": [
    "df_movies_merged.loc[:, [\"name\", \"budget\", \"infl_adj_budget\", \"gross\", \"infl_adj_gross\"]].round(4).sort_values(by=\"infl_adj_gross\", inplace=False, ascending=False).head(10)"
   ]
  },
  {
   "cell_type": "markdown",
   "id": "5ed66d1d-1b64-4875-a7d6-c084676be9b1",
   "metadata": {},
   "source": [
    "**Find the profit/loss of each movies**"
   ]
  },
  {
   "cell_type": "markdown",
   "id": "a12613db-d0bc-45c4-9299-e54a95a5e118",
   "metadata": {},
   "source": [
    "*Use columns 'infl_adj_budget' and 'infl_adj_gross' to find if a movie was profitable or not\\\n",
    "Since we don't have access to the net earnings of each movie in this dataset,\\\n",
    "we will use the new column as an approximate indicator*"
   ]
  },
  {
   "cell_type": "code",
   "execution_count": 57,
   "id": "6af2e843-d081-4a9a-85a4-ad584bf6c873",
   "metadata": {},
   "outputs": [],
   "source": [
    "df_movies_merged[\"profit_loss\"] = df_movies_merged[\"infl_adj_gross\"] - df_movies_merged[\"infl_adj_budget\"]"
   ]
  },
  {
   "cell_type": "code",
   "execution_count": null,
   "id": "c279c84f-db80-48e8-9b46-d00b3b24645e",
   "metadata": {},
   "outputs": [],
   "source": []
  },
  {
   "cell_type": "markdown",
   "id": "84f7007d-808d-44d6-8a01-0a7ad61cd293",
   "metadata": {},
   "source": [
    "**Test for Multicollinearity**"
   ]
  },
  {
   "cell_type": "markdown",
   "id": "fc9a0bb9-84d4-4e86-bb06-fb38111aa57b",
   "metadata": {},
   "source": [
    "*To detect multicollinearity in data we use the Variance Inflation Factor (VIF) metric*"
   ]
  },
  {
   "cell_type": "markdown",
   "id": "2d68663f-6122-453f-9a18-09c1ca8b2a07",
   "metadata": {},
   "source": [
    "**Create a dataframe that contains all the independent variables**"
   ]
  },
  {
   "cell_type": "markdown",
   "id": "74d3e816-9909-438e-86c7-eeffead34f41",
   "metadata": {},
   "source": [
    "*The dependent variable in the dataset is the gross earnings of each movie, so we omit the \"gross\" column*"
   ]
  },
  {
   "cell_type": "code",
   "execution_count": 58,
   "id": "1e809abd-d1fb-4bc0-b306-f4be272950c7",
   "metadata": {},
   "outputs": [],
   "source": [
    "# Columns to check using VIF for multicollinearity\n",
    "indep_var = df_movies_merged[[\"score\", \"votes\", \"infl_adj_budget\", \"runtime\", \"release_year\"]]"
   ]
  },
  {
   "cell_type": "code",
   "execution_count": 59,
   "id": "d4d92a50-ddbe-4086-b329-657c81019f66",
   "metadata": {},
   "outputs": [],
   "source": [
    "vif = pd.DataFrame()"
   ]
  },
  {
   "cell_type": "code",
   "execution_count": 60,
   "id": "5b4c362b-c069-4693-8c36-a9ab8200ac81",
   "metadata": {},
   "outputs": [],
   "source": [
    "vif[\"variables\"] = indep_var.columns"
   ]
  },
  {
   "cell_type": "code",
   "execution_count": 61,
   "id": "8670c181-bea8-4788-8fd0-7d4be7da7c4e",
   "metadata": {},
   "outputs": [
    {
     "data": {
      "text/html": [
       "<div>\n",
       "<style scoped>\n",
       "    .dataframe tbody tr th:only-of-type {\n",
       "        vertical-align: middle;\n",
       "    }\n",
       "\n",
       "    .dataframe tbody tr th {\n",
       "        vertical-align: top;\n",
       "    }\n",
       "\n",
       "    .dataframe thead th {\n",
       "        text-align: right;\n",
       "    }\n",
       "</style>\n",
       "<table border=\"1\" class=\"dataframe\">\n",
       "  <thead>\n",
       "    <tr style=\"text-align: right;\">\n",
       "      <th></th>\n",
       "      <th>variables</th>\n",
       "      <th>vif_factor</th>\n",
       "    </tr>\n",
       "  </thead>\n",
       "  <tbody>\n",
       "    <tr>\n",
       "      <th>0</th>\n",
       "      <td>score</td>\n",
       "      <td>62.95</td>\n",
       "    </tr>\n",
       "    <tr>\n",
       "      <th>1</th>\n",
       "      <td>votes</td>\n",
       "      <td>1.97</td>\n",
       "    </tr>\n",
       "    <tr>\n",
       "      <th>2</th>\n",
       "      <td>infl_adj_budget</td>\n",
       "      <td>2.57</td>\n",
       "    </tr>\n",
       "    <tr>\n",
       "      <th>3</th>\n",
       "      <td>runtime</td>\n",
       "      <td>46.29</td>\n",
       "    </tr>\n",
       "    <tr>\n",
       "      <th>4</th>\n",
       "      <td>release_year</td>\n",
       "      <td>65.98</td>\n",
       "    </tr>\n",
       "  </tbody>\n",
       "</table>\n",
       "</div>"
      ],
      "text/plain": [
       "         variables  vif_factor\n",
       "0            score       62.95\n",
       "1            votes        1.97\n",
       "2  infl_adj_budget        2.57\n",
       "3          runtime       46.29\n",
       "4     release_year       65.98"
      ]
     },
     "execution_count": 61,
     "metadata": {},
     "output_type": "execute_result"
    }
   ],
   "source": [
    "vif[\"vif_factor\"] = [variance_inflation_factor(indep_var.values, i) for i in range(indep_var.shape[1])]\n",
    "vif"
   ]
  },
  {
   "cell_type": "markdown",
   "id": "cec09c1c-9f4b-4420-a272-c75426a32708",
   "metadata": {},
   "source": [
    "*VIF quantifies the strength of correlation:\\\n",
    "1 indicate no correlation,\\\n",
    "between 1 and 5 indicate a moderate correlation,\\\n",
    "values greater than 5 represent a critical level of correlation in variables.*"
   ]
  },
  {
   "cell_type": "markdown",
   "id": "67ffdf2c-8ed0-4cc2-93bc-c643f1c9cb01",
   "metadata": {},
   "source": [
    "*The very high VIF values for 'score', 'runtime' and 'release_year' indicate a strong correlation in this dataset*"
   ]
  },
  {
   "cell_type": "markdown",
   "id": "464f4e81-ee46-42d7-bf6c-2f395b8ec4d6",
   "metadata": {},
   "source": [
    "**Create a copy of the DataFrame without the redandant variables 'release_year' and 'score' to remedy multicollinearity**"
   ]
  },
  {
   "cell_type": "markdown",
   "id": "c2c492c9-6a9a-4fec-86c0-e6f26a6b4082",
   "metadata": {},
   "source": [
    "*When choosing between the 'score' and 'runtime' columns that appear to be correlated, we opt to delete 'score',\\\n",
    "since that column only applies to IMDB users only, so it's of lesser importance in the analysis*"
   ]
  },
  {
   "cell_type": "markdown",
   "id": "707a17b0-3642-4481-b9c3-8d84226d8995",
   "metadata": {},
   "source": [
    "*Also drop the no longer needed columns 'year' and 'release'*"
   ]
  },
  {
   "cell_type": "code",
   "execution_count": 62,
   "id": "74b2805a-f39e-4778-9355-3b554ac1cedb",
   "metadata": {},
   "outputs": [],
   "source": [
    "df_movies_2 = df_movies_merged.drop([\"score\", \"release_year\", \"year\", \"released\"], axis=1)"
   ]
  },
  {
   "cell_type": "code",
   "execution_count": null,
   "id": "747f8d4a-f2e7-4470-80ae-8b0b1402d176",
   "metadata": {},
   "outputs": [],
   "source": []
  },
  {
   "cell_type": "markdown",
   "id": "b7e097fe-82bb-4e37-be66-34b45b857d51",
   "metadata": {},
   "source": [
    "**Test for Multicollinearity again**"
   ]
  },
  {
   "cell_type": "code",
   "execution_count": 63,
   "id": "4d4222c7-9357-4a1e-b244-a74b9959755c",
   "metadata": {},
   "outputs": [],
   "source": [
    "indep_var = df_movies_2[[\"votes\", \"budget\", \"runtime\"]]"
   ]
  },
  {
   "cell_type": "code",
   "execution_count": 64,
   "id": "2e197963-8d79-404e-a5ed-707f3d2d6e16",
   "metadata": {},
   "outputs": [],
   "source": [
    "vif = pd.DataFrame()"
   ]
  },
  {
   "cell_type": "code",
   "execution_count": 65,
   "id": "36091c6e-8cc9-4e54-a089-0c63fd6e9b38",
   "metadata": {},
   "outputs": [],
   "source": [
    "vif[\"variables\"] = indep_var.columns"
   ]
  },
  {
   "cell_type": "code",
   "execution_count": 66,
   "id": "04a9c127-43d5-4b20-845a-4dd05368670f",
   "metadata": {},
   "outputs": [
    {
     "data": {
      "text/html": [
       "<div>\n",
       "<style scoped>\n",
       "    .dataframe tbody tr th:only-of-type {\n",
       "        vertical-align: middle;\n",
       "    }\n",
       "\n",
       "    .dataframe tbody tr th {\n",
       "        vertical-align: top;\n",
       "    }\n",
       "\n",
       "    .dataframe thead th {\n",
       "        text-align: right;\n",
       "    }\n",
       "</style>\n",
       "<table border=\"1\" class=\"dataframe\">\n",
       "  <thead>\n",
       "    <tr style=\"text-align: right;\">\n",
       "      <th></th>\n",
       "      <th>variables</th>\n",
       "      <th>vif_factor</th>\n",
       "    </tr>\n",
       "  </thead>\n",
       "  <tbody>\n",
       "    <tr>\n",
       "      <th>0</th>\n",
       "      <td>votes</td>\n",
       "      <td>1.69</td>\n",
       "    </tr>\n",
       "    <tr>\n",
       "      <th>1</th>\n",
       "      <td>budget</td>\n",
       "      <td>2.16</td>\n",
       "    </tr>\n",
       "    <tr>\n",
       "      <th>2</th>\n",
       "      <td>runtime</td>\n",
       "      <td>1.81</td>\n",
       "    </tr>\n",
       "  </tbody>\n",
       "</table>\n",
       "</div>"
      ],
      "text/plain": [
       "  variables  vif_factor\n",
       "0     votes        1.69\n",
       "1    budget        2.16\n",
       "2   runtime        1.81"
      ]
     },
     "execution_count": 66,
     "metadata": {},
     "output_type": "execute_result"
    }
   ],
   "source": [
    "vif[\"vif_factor\"] = [variance_inflation_factor(indep_var.values, i) for i in range(indep_var.shape[1])]\n",
    "vif"
   ]
  },
  {
   "cell_type": "markdown",
   "id": "f8ec90be-a9df-4b67-95b7-188d98ede98e",
   "metadata": {},
   "source": [
    "*The VIF values dropped below 5, after removing the highly correlated variables*"
   ]
  },
  {
   "cell_type": "code",
   "execution_count": null,
   "id": "dd8e0e9f-cd82-4d7e-89a9-2a484845cc8a",
   "metadata": {},
   "outputs": [],
   "source": []
  },
  {
   "cell_type": "markdown",
   "id": "51d51fdb-84ca-4fae-b5ca-b00559ce574c",
   "metadata": {},
   "source": [
    "**Begin EDA**"
   ]
  },
  {
   "cell_type": "markdown",
   "id": "0e1710a1-c343-4748-858e-dfe9c2bc5051",
   "metadata": {},
   "source": [
    "**Sort the DataFrame in a descending way, using the 'profit_loss' column, in order to find the highest-grossing films**"
   ]
  },
  {
   "cell_type": "code",
   "execution_count": 67,
   "id": "88fb0982-aa25-4e0b-86dc-01323a38a02a",
   "metadata": {},
   "outputs": [
    {
     "data": {
      "text/html": [
       "<div>\n",
       "<style scoped>\n",
       "    .dataframe tbody tr th:only-of-type {\n",
       "        vertical-align: middle;\n",
       "    }\n",
       "\n",
       "    .dataframe tbody tr th {\n",
       "        vertical-align: top;\n",
       "    }\n",
       "\n",
       "    .dataframe thead th {\n",
       "        text-align: right;\n",
       "    }\n",
       "</style>\n",
       "<table border=\"1\" class=\"dataframe\">\n",
       "  <thead>\n",
       "    <tr style=\"text-align: right;\">\n",
       "      <th></th>\n",
       "      <th>name</th>\n",
       "      <th>rating</th>\n",
       "      <th>genre</th>\n",
       "      <th>votes</th>\n",
       "      <th>director</th>\n",
       "      <th>writer</th>\n",
       "      <th>star</th>\n",
       "      <th>country</th>\n",
       "      <th>budget</th>\n",
       "      <th>gross</th>\n",
       "      <th>company</th>\n",
       "      <th>runtime</th>\n",
       "      <th>infl_adj_budget</th>\n",
       "      <th>annual_ticket_infl_adj</th>\n",
       "      <th>infl_adj_gross</th>\n",
       "      <th>profit_loss</th>\n",
       "    </tr>\n",
       "  </thead>\n",
       "  <tbody>\n",
       "    <tr>\n",
       "      <th>5390</th>\n",
       "      <td>Avatar</td>\n",
       "      <td>PG-13</td>\n",
       "      <td>Action</td>\n",
       "      <td>1100000.00</td>\n",
       "      <td>James Cameron</td>\n",
       "      <td>James Cameron</td>\n",
       "      <td>Sam Worthington</td>\n",
       "      <td>United States</td>\n",
       "      <td>237000000</td>\n",
       "      <td>2847246203</td>\n",
       "      <td>Twentieth Century Fox</td>\n",
       "      <td>162.00</td>\n",
       "      <td>333369658</td>\n",
       "      <td>1.52</td>\n",
       "      <td>4320585379</td>\n",
       "      <td>3987215721</td>\n",
       "    </tr>\n",
       "    <tr>\n",
       "      <th>7381</th>\n",
       "      <td>Avengers: Endgame</td>\n",
       "      <td>PG-13</td>\n",
       "      <td>Action</td>\n",
       "      <td>903000.00</td>\n",
       "      <td>Anthony Russo</td>\n",
       "      <td>Christopher Markus</td>\n",
       "      <td>Robert Downey Jr.</td>\n",
       "      <td>United States</td>\n",
       "      <td>356000000</td>\n",
       "      <td>2797501328</td>\n",
       "      <td>Marvel Studios</td>\n",
       "      <td>181.00</td>\n",
       "      <td>417093647</td>\n",
       "      <td>1.10</td>\n",
       "      <td>3080113097</td>\n",
       "      <td>2663019450</td>\n",
       "    </tr>\n",
       "    <tr>\n",
       "      <th>3009</th>\n",
       "      <td>Titanic</td>\n",
       "      <td>PG-13</td>\n",
       "      <td>Drama</td>\n",
       "      <td>1100000.00</td>\n",
       "      <td>James Cameron</td>\n",
       "      <td>James Cameron</td>\n",
       "      <td>Leonardo DiCaprio</td>\n",
       "      <td>United States</td>\n",
       "      <td>200000000</td>\n",
       "      <td>2201647264</td>\n",
       "      <td>Twentieth Century Fox</td>\n",
       "      <td>194.00</td>\n",
       "      <td>363871386</td>\n",
       "      <td>2.23</td>\n",
       "      <td>4909652538</td>\n",
       "      <td>4545781152</td>\n",
       "    </tr>\n",
       "    <tr>\n",
       "      <th>6605</th>\n",
       "      <td>Star Wars: Episode VII - The Force Awakens</td>\n",
       "      <td>PG-13</td>\n",
       "      <td>Action</td>\n",
       "      <td>876000.00</td>\n",
       "      <td>J.J. Abrams</td>\n",
       "      <td>Lawrence Kasdan</td>\n",
       "      <td>Daisy Ridley</td>\n",
       "      <td>United States</td>\n",
       "      <td>245000000</td>\n",
       "      <td>2069521700</td>\n",
       "      <td>Lucasfilm</td>\n",
       "      <td>138.00</td>\n",
       "      <td>311885575</td>\n",
       "      <td>1.25</td>\n",
       "      <td>2590567003</td>\n",
       "      <td>2278681428</td>\n",
       "    </tr>\n",
       "    <tr>\n",
       "      <th>7181</th>\n",
       "      <td>Avengers: Infinity War</td>\n",
       "      <td>PG-13</td>\n",
       "      <td>Action</td>\n",
       "      <td>897000.00</td>\n",
       "      <td>Anthony Russo</td>\n",
       "      <td>Christopher Markus</td>\n",
       "      <td>Robert Downey Jr.</td>\n",
       "      <td>United States</td>\n",
       "      <td>321000000</td>\n",
       "      <td>2048359754</td>\n",
       "      <td>Marvel Studios</td>\n",
       "      <td>149.00</td>\n",
       "      <td>384331337</td>\n",
       "      <td>1.14</td>\n",
       "      <td>2328813538</td>\n",
       "      <td>1944482201</td>\n",
       "    </tr>\n",
       "  </tbody>\n",
       "</table>\n",
       "</div>"
      ],
      "text/plain": [
       "                                            name rating   genre      votes  \\\n",
       "5390                                      Avatar  PG-13  Action 1100000.00   \n",
       "7381                           Avengers: Endgame  PG-13  Action  903000.00   \n",
       "3009                                     Titanic  PG-13   Drama 1100000.00   \n",
       "6605  Star Wars: Episode VII - The Force Awakens  PG-13  Action  876000.00   \n",
       "7181                      Avengers: Infinity War  PG-13  Action  897000.00   \n",
       "\n",
       "           director              writer               star        country  \\\n",
       "5390  James Cameron       James Cameron    Sam Worthington  United States   \n",
       "7381  Anthony Russo  Christopher Markus  Robert Downey Jr.  United States   \n",
       "3009  James Cameron       James Cameron  Leonardo DiCaprio  United States   \n",
       "6605    J.J. Abrams     Lawrence Kasdan       Daisy Ridley  United States   \n",
       "7181  Anthony Russo  Christopher Markus  Robert Downey Jr.  United States   \n",
       "\n",
       "         budget       gross                company  runtime  infl_adj_budget  \\\n",
       "5390  237000000  2847246203  Twentieth Century Fox   162.00        333369658   \n",
       "7381  356000000  2797501328         Marvel Studios   181.00        417093647   \n",
       "3009  200000000  2201647264  Twentieth Century Fox   194.00        363871386   \n",
       "6605  245000000  2069521700              Lucasfilm   138.00        311885575   \n",
       "7181  321000000  2048359754         Marvel Studios   149.00        384331337   \n",
       "\n",
       "      annual_ticket_infl_adj  infl_adj_gross  profit_loss  \n",
       "5390                    1.52      4320585379   3987215721  \n",
       "7381                    1.10      3080113097   2663019450  \n",
       "3009                    2.23      4909652538   4545781152  \n",
       "6605                    1.25      2590567003   2278681428  \n",
       "7181                    1.14      2328813538   1944482201  "
      ]
     },
     "execution_count": 67,
     "metadata": {},
     "output_type": "execute_result"
    }
   ],
   "source": [
    "df_movies_2.sort_values(by=[\"gross\"], inplace=False, ascending=False).head(5)"
   ]
  },
  {
   "cell_type": "markdown",
   "id": "b6e80958-4b9b-4f44-bc21-c6c9d1e7bf57",
   "metadata": {},
   "source": [
    "**Create a histogram**"
   ]
  },
  {
   "cell_type": "code",
   "execution_count": 68,
   "id": "549756b8-d8d6-4f12-971d-8082d9fff384",
   "metadata": {},
   "outputs": [
    {
     "data": {
      "image/png": "[encoded data removed]",
      "text/plain": [
       "<Figure size 1000x600 with 1 Axes>"
      ]
     },
     "metadata": {},
     "output_type": "display_data"
    }
   ],
   "source": [
    "fig, ax = plt.subplots(figsize=(10,6))\n",
    "ax = sns.histplot(data=df_movies_2, x=df_movies_2[\"gross\"], bins=20, color='green')"
   ]
  },
  {
   "cell_type": "markdown",
   "id": "4a7a70bc-b8cf-47bb-b863-b771a87d9d57",
   "metadata": {},
   "source": [
    "**Create a scatterplot with a regression line, using the adjusted for inflation 'budget' and 'gross' columns**"
   ]
  },
  {
   "cell_type": "code",
   "execution_count": 69,
   "id": "842f6b50-6a48-4749-b699-6171cdd90538",
   "metadata": {},
   "outputs": [
    {
     "data": {
      "image/png": "[encoded data removed]",
      "text/plain": [
       "<Figure size 1000x600 with 1 Axes>"
      ]
     },
     "metadata": {},
     "output_type": "display_data"
    }
   ],
   "source": [
    "# Create a function in order to suppress the scientific notation in the x axis\n",
    "def formatter(x, pos):\n",
    "    return str(round(x / 1e6, 1))\n",
    "\n",
    "# Create the regplot\n",
    "fig, ax = plt.subplots(figsize=(10,6))\n",
    "ax = sns.regplot(data=df_movies_2, x=\"infl_adj_budget\", y=\"infl_adj_gross\", color='green', \n",
    "                 line_kws={\"color\": \"Purple\"}, scatter_kws={\"s\": 30, \"edgecolors\": \"white\"})\n",
    "\n",
    "# Set the x-axis range\n",
    "ax.set_xlim(xmin=-0, xmax=450000000)\n",
    "\n",
    "# Set the major and minor ticks for the x axis\n",
    "ax.xaxis.set_major_formatter(formatter)\n",
    "ax.xaxis.set_minor_formatter(NullFormatter())\n",
    "\n",
    "# Add title and axis labels\n",
    "ax.set_title(\"Budget vs Gross Earnings (adjusted for inflation)\")\n",
    "ax.set_ylabel(\"Gross Earning (Billion $)\")\n",
    "ax.set_xlabel(\"Film Budget (Million $)\");"
   ]
  },
  {
   "cell_type": "markdown",
   "id": "735832fd-d5fa-47ed-bfbb-48a6ec53385a",
   "metadata": {},
   "source": [
    "**Create a correlation matrix from the DataFrame**"
   ]
  },
  {
   "cell_type": "code",
   "execution_count": 70,
   "id": "86e0eb43-0e68-4ab8-a8ee-92aa484d3b2a",
   "metadata": {},
   "outputs": [
    {
     "data": {
      "text/html": [
       "<div>\n",
       "<style scoped>\n",
       "    .dataframe tbody tr th:only-of-type {\n",
       "        vertical-align: middle;\n",
       "    }\n",
       "\n",
       "    .dataframe tbody tr th {\n",
       "        vertical-align: top;\n",
       "    }\n",
       "\n",
       "    .dataframe thead th {\n",
       "        text-align: right;\n",
       "    }\n",
       "</style>\n",
       "<table border=\"1\" class=\"dataframe\">\n",
       "  <thead>\n",
       "    <tr style=\"text-align: right;\">\n",
       "      <th></th>\n",
       "      <th>votes</th>\n",
       "      <th>budget</th>\n",
       "      <th>gross</th>\n",
       "      <th>runtime</th>\n",
       "      <th>infl_adj_budget</th>\n",
       "      <th>annual_ticket_infl_adj</th>\n",
       "      <th>infl_adj_gross</th>\n",
       "      <th>profit_loss</th>\n",
       "    </tr>\n",
       "  </thead>\n",
       "  <tbody>\n",
       "    <tr>\n",
       "      <th>votes</th>\n",
       "      <td>1.00</td>\n",
       "      <td>0.47</td>\n",
       "      <td>0.63</td>\n",
       "      <td>0.31</td>\n",
       "      <td>0.45</td>\n",
       "      <td>-0.23</td>\n",
       "      <td>0.65</td>\n",
       "      <td>0.64</td>\n",
       "    </tr>\n",
       "    <tr>\n",
       "      <th>budget</th>\n",
       "      <td>0.47</td>\n",
       "      <td>1.00</td>\n",
       "      <td>0.76</td>\n",
       "      <td>0.32</td>\n",
       "      <td>0.97</td>\n",
       "      <td>-0.30</td>\n",
       "      <td>0.69</td>\n",
       "      <td>0.56</td>\n",
       "    </tr>\n",
       "    <tr>\n",
       "      <th>gross</th>\n",
       "      <td>0.63</td>\n",
       "      <td>0.76</td>\n",
       "      <td>1.00</td>\n",
       "      <td>0.25</td>\n",
       "      <td>0.70</td>\n",
       "      <td>-0.25</td>\n",
       "      <td>0.95</td>\n",
       "      <td>0.92</td>\n",
       "    </tr>\n",
       "    <tr>\n",
       "      <th>runtime</th>\n",
       "      <td>0.31</td>\n",
       "      <td>0.32</td>\n",
       "      <td>0.25</td>\n",
       "      <td>1.00</td>\n",
       "      <td>0.34</td>\n",
       "      <td>-0.12</td>\n",
       "      <td>0.25</td>\n",
       "      <td>0.21</td>\n",
       "    </tr>\n",
       "    <tr>\n",
       "      <th>infl_adj_budget</th>\n",
       "      <td>0.45</td>\n",
       "      <td>0.97</td>\n",
       "      <td>0.70</td>\n",
       "      <td>0.34</td>\n",
       "      <td>1.00</td>\n",
       "      <td>-0.14</td>\n",
       "      <td>0.68</td>\n",
       "      <td>0.55</td>\n",
       "    </tr>\n",
       "    <tr>\n",
       "      <th>annual_ticket_infl_adj</th>\n",
       "      <td>-0.23</td>\n",
       "      <td>-0.30</td>\n",
       "      <td>-0.25</td>\n",
       "      <td>-0.12</td>\n",
       "      <td>-0.14</td>\n",
       "      <td>1.00</td>\n",
       "      <td>-0.13</td>\n",
       "      <td>-0.12</td>\n",
       "    </tr>\n",
       "    <tr>\n",
       "      <th>infl_adj_gross</th>\n",
       "      <td>0.65</td>\n",
       "      <td>0.69</td>\n",
       "      <td>0.95</td>\n",
       "      <td>0.25</td>\n",
       "      <td>0.68</td>\n",
       "      <td>-0.13</td>\n",
       "      <td>1.00</td>\n",
       "      <td>0.99</td>\n",
       "    </tr>\n",
       "    <tr>\n",
       "      <th>profit_loss</th>\n",
       "      <td>0.64</td>\n",
       "      <td>0.56</td>\n",
       "      <td>0.92</td>\n",
       "      <td>0.21</td>\n",
       "      <td>0.55</td>\n",
       "      <td>-0.12</td>\n",
       "      <td>0.99</td>\n",
       "      <td>1.00</td>\n",
       "    </tr>\n",
       "  </tbody>\n",
       "</table>\n",
       "</div>"
      ],
      "text/plain": [
       "                        votes  budget  gross  runtime  infl_adj_budget  \\\n",
       "votes                    1.00    0.47   0.63     0.31             0.45   \n",
       "budget                   0.47    1.00   0.76     0.32             0.97   \n",
       "gross                    0.63    0.76   1.00     0.25             0.70   \n",
       "runtime                  0.31    0.32   0.25     1.00             0.34   \n",
       "infl_adj_budget          0.45    0.97   0.70     0.34             1.00   \n",
       "annual_ticket_infl_adj  -0.23   -0.30  -0.25    -0.12            -0.14   \n",
       "infl_adj_gross           0.65    0.69   0.95     0.25             0.68   \n",
       "profit_loss              0.64    0.56   0.92     0.21             0.55   \n",
       "\n",
       "                        annual_ticket_infl_adj  infl_adj_gross  profit_loss  \n",
       "votes                                    -0.23            0.65         0.64  \n",
       "budget                                   -0.30            0.69         0.56  \n",
       "gross                                    -0.25            0.95         0.92  \n",
       "runtime                                  -0.12            0.25         0.21  \n",
       "infl_adj_budget                          -0.14            0.68         0.55  \n",
       "annual_ticket_infl_adj                    1.00           -0.13        -0.12  \n",
       "infl_adj_gross                           -0.13            1.00         0.99  \n",
       "profit_loss                              -0.12            0.99         1.00  "
      ]
     },
     "execution_count": 70,
     "metadata": {},
     "output_type": "execute_result"
    }
   ],
   "source": [
    "df_movies_2.corr(numeric_only=True)"
   ]
  },
  {
   "cell_type": "markdown",
   "id": "9ab3cd41-73af-4d2c-a7dc-04e522e637b0",
   "metadata": {},
   "source": [
    "**Create a DataFrame heatmap**"
   ]
  },
  {
   "cell_type": "code",
   "execution_count": 71,
   "id": "e5147ce5-8399-4fd6-be07-6afecdd78e9e",
   "metadata": {},
   "outputs": [
    {
     "data": {
      "image/png": "[encoded data removed]",
      "text/plain": [
       "<Figure size 1000x600 with 2 Axes>"
      ]
     },
     "metadata": {},
     "output_type": "display_data"
    }
   ],
   "source": [
    "# Create the heatmap\n",
    "fig, ax = plt.subplots(figsize=(10,6))\n",
    "ax = sns.heatmap(data=df_movies_2.corr(numeric_only=True),vmin=0, vmax=1, cmap=\"YlGn\", annot=True)"
   ]
  },
  {
   "cell_type": "markdown",
   "id": "9c9a8796-619a-47e9-923c-7b7521ce76c7",
   "metadata": {},
   "source": [
    "*We notice that the correlation coefficient for the columns 'budget' and 'gross'\\\n",
    "is equal to 0.76 (0.68 when adjusting for inflation), which indicates a strong positive linear relationship*"
   ]
  },
  {
   "cell_type": "markdown",
   "id": "740a193a-5e92-4524-82a7-3f5e8281a9d9",
   "metadata": {},
   "source": [
    "**Find the number of movies per genre**"
   ]
  },
  {
   "cell_type": "code",
   "execution_count": 72,
   "id": "d9dafa98-1698-42d6-bb98-d069ca9de8dd",
   "metadata": {},
   "outputs": [
    {
     "data": {
      "text/plain": [
       "genre\n",
       "Comedy       2230\n",
       "Action       1696\n",
       "Drama        1476\n",
       "Crime         544\n",
       "Biography     439\n",
       "Adventure     426\n",
       "Animation     334\n",
       "Horror        318\n",
       "Fantasy        43\n",
       "Mystery        20\n",
       "Thriller       16\n",
       "Family         10\n",
       "Sci-Fi          9\n",
       "Romance         8\n",
       "Western         3\n",
       "Music           1\n",
       "Sport           1\n",
       "Musical         1\n",
       "Name: count, dtype: int64"
      ]
     },
     "execution_count": 72,
     "metadata": {},
     "output_type": "execute_result"
    }
   ],
   "source": [
    "df_movies_2[\"genre\"].value_counts()"
   ]
  },
  {
   "cell_type": "markdown",
   "id": "3e31709d-70bb-4057-9e2f-478fc393c617",
   "metadata": {},
   "source": [
    "**Create a pie chart that depicts the percentage for the Top5 genres**"
   ]
  },
  {
   "cell_type": "code",
   "execution_count": 73,
   "id": "362ec0fd-2be0-44b4-85bf-23f0debec59c",
   "metadata": {},
   "outputs": [
    {
     "data": {
      "image/png": "[encoded data removed]",
      "text/plain": [
       "<Figure size 1000x800 with 1 Axes>"
      ]
     },
     "metadata": {},
     "output_type": "display_data"
    }
   ],
   "source": [
    "# Create the pie chart\n",
    "fig, ax = plt.subplots(figsize=(10, 8))\n",
    "ax = plt.pie(x=df_movies_2[\"genre\"].value_counts()[:5], explode=[0.1, 0, 0, 0, 0],\n",
    "             labels=df_movies_merged[\"genre\"].value_counts()[:5].index, colors=sns.color_palette(\"BuPu_r\"), autopct=\"%3.2f%%\", shadow=True)\n",
    "\n",
    "# Add title\n",
    "plt.title(\"Top 5 Movie Genres\");"
   ]
  },
  {
   "cell_type": "markdown",
   "id": "18456975-d540-412d-9f2e-bb9343654f46",
   "metadata": {},
   "source": [
    "*Comedies, Action and Drama movies have the highest popularity among genres*"
   ]
  },
  {
   "cell_type": "markdown",
   "id": "2b81b076-ebf5-43a4-96a5-8c7c650bc006",
   "metadata": {},
   "source": [
    "**Find the profit/loss per movie genre**"
   ]
  },
  {
   "cell_type": "code",
   "execution_count": 74,
   "id": "1efb8e5f-df33-48aa-8f73-b853055062cd",
   "metadata": {},
   "outputs": [
    {
     "data": {
      "text/plain": [
       "genre\n",
       "Action       265150826918\n",
       "Comedy       116449457988\n",
       "Animation     88910828976\n",
       "Drama         59705546284\n",
       "Adventure     51278883995\n",
       "Crime         21306176424\n",
       "Biography     18978084566\n",
       "Horror        18110470585\n",
       "Family         4096008736\n",
       "Mystery        2781165049\n",
       "Fantasy        2188607937\n",
       "Thriller        369870968\n",
       "Sci-Fi          105166016\n",
       "Romance          92563265\n",
       "Western          14015651\n",
       "Musical         -15132922\n",
       "Sport           -15227075\n",
       "Music           -54326194\n",
       "Name: profit_loss, dtype: int64"
      ]
     },
     "execution_count": 74,
     "metadata": {},
     "output_type": "execute_result"
    }
   ],
   "source": [
    "df_movies_2.groupby(\"genre\")[\"profit_loss\"].sum().sort_values(ascending=False)"
   ]
  },
  {
   "cell_type": "markdown",
   "id": "217288c5-8951-4384-93af-56550e2aa2ab",
   "metadata": {},
   "source": [
    "**Create a barplot that depicts Top 5 most profitable movie genres**"
   ]
  },
  {
   "cell_type": "code",
   "execution_count": 75,
   "id": "80c64d1d-9a6b-4095-a47f-9afefbbd34f3",
   "metadata": {},
   "outputs": [
    {
     "data": {
      "image/png": "[encoded data removed]",
      "text/plain": [
       "<Figure size 1000x600 with 1 Axes>"
      ]
     },
     "metadata": {},
     "output_type": "display_data"
    }
   ],
   "source": [
    "# Create a function in order to suppress the scientific notation in the y axis\n",
    "def formatter_2(y, pos):\n",
    "    return str(round(y / 1e9, 1))\n",
    "\n",
    "# Create the bar plot\n",
    "fig, ax = plt.subplots(figsize=(10, 6))\n",
    "ax = sns.barplot(x=df_movies_2.groupby(\"genre\")[\"profit_loss\"].sum().sort_values(ascending=False).nlargest(5).index,\n",
    "               y=df_movies_2.groupby(\"genre\")[\"profit_loss\"].sum().sort_values(ascending=False).nlargest(5).values, palette=\"Greens_r_d\")\n",
    "\n",
    "# Set the y-axis range\n",
    "ax.set_ylim(ymin=-0, ymax=300000000000)\n",
    "\n",
    "# Set the major and minor ticks for the y axis\n",
    "ax.yaxis.set_major_formatter(formatter_2)\n",
    "ax.yaxis.set_minor_formatter(NullFormatter())\n",
    "\n",
    "# Add title and axis labels\n",
    "ax.set_title(\"Top 5 Most Profitable Movie Genres\")\n",
    "ax.set_ylabel(\"Profit (Billion $)\")\n",
    "ax.set_xlabel(\"Movie Genre\");"
   ]
  },
  {
   "cell_type": "markdown",
   "id": "d6ffd978-7073-4c2c-a787-9a63022ce3c3",
   "metadata": {},
   "source": [
    "*Action, Animation and Comedy films are the Top 3 most profitable genres, followed by Drama and Adventure films*"
   ]
  },
  {
   "cell_type": "markdown",
   "id": "133bacdd-9876-4835-bad2-79001c2164ca",
   "metadata": {},
   "source": [
    "**Create a barplot that depicts the 5 least profitable movie genres**"
   ]
  },
  {
   "cell_type": "code",
   "execution_count": 76,
   "id": "346f4b4d-5a46-43eb-9f77-e33f2376c988",
   "metadata": {},
   "outputs": [
    {
     "data": {
      "image/png": "[encoded data removed]",
      "text/plain": [
       "<Figure size 1000x600 with 1 Axes>"
      ]
     },
     "metadata": {},
     "output_type": "display_data"
    }
   ],
   "source": [
    "# Create a function in order to suppress the scientific notation in the y axis\n",
    "def formatter_3(y, pos):\n",
    "    return str(round(y / 1e6, 1))\n",
    "\n",
    "# Create the bar plot\n",
    "fig, ax = plt.subplots(figsize=(10, 6))\n",
    "ax = sns.barplot(x=df_movies_2.groupby(\"genre\")[\"profit_loss\"].sum().sort_values(ascending=False).nsmallest(5).index,\n",
    "               y=df_movies_2.groupby(\"genre\")[\"profit_loss\"].sum().sort_values(ascending=False).nsmallest(5).values, palette=\"Reds_r_d\")\n",
    "\n",
    "# Set the y-axis range\n",
    "ax.set_ylim(ymin=-60000000, ymax=100000000)\n",
    "\n",
    "# Set the major and minor ticks for the y axis\n",
    "ax.yaxis.set_major_formatter(formatter_3)\n",
    "ax.yaxis.set_minor_formatter(NullFormatter())\n",
    "\n",
    "# Add title and axis labels\n",
    "ax.set_title(\"Least Profitable Movie Genres\")\n",
    "ax.set_ylabel(\"Loss (Million $)\")\n",
    "ax.set_xlabel(\"Movie Genre\");"
   ]
  },
  {
   "cell_type": "markdown",
   "id": "c0f037f3-48c0-4cbe-a0be-ddad92d376f8",
   "metadata": {},
   "source": [
    "*Music, Musical and Sports films are the least profitable film genres*"
   ]
  },
  {
   "cell_type": "markdown",
   "id": "f8f140ce-13d8-42c3-8834-cf5462ff6703",
   "metadata": {},
   "source": [
    "**Find the number of movies per rating**"
   ]
  },
  {
   "cell_type": "code",
   "execution_count": 77,
   "id": "bdadbedb-c97b-4603-b6eb-c1284e615482",
   "metadata": {},
   "outputs": [
    {
     "data": {
      "text/plain": [
       "rating\n",
       "R            3689\n",
       "PG-13        2111\n",
       "PG           1249\n",
       "Not Rated     282\n",
       "G             153\n",
       "Unrated        50\n",
       "NC-17          23\n",
       "TV-MA           9\n",
       "TV-PG           4\n",
       "X               3\n",
       "Approved        1\n",
       "TV-14           1\n",
       "Name: count, dtype: int64"
      ]
     },
     "execution_count": 77,
     "metadata": {},
     "output_type": "execute_result"
    }
   ],
   "source": [
    "df_movies_2[\"rating\"].value_counts()"
   ]
  },
  {
   "cell_type": "markdown",
   "id": "e84c5980-c6d4-492e-88db-5dd9ba7da785",
   "metadata": {},
   "source": [
    "**Create a pie chart that depicts the distribution of the five most common movie ratings**"
   ]
  },
  {
   "cell_type": "code",
   "execution_count": 78,
   "id": "7f77f22a-f1fd-4298-a485-614928a47ffd",
   "metadata": {},
   "outputs": [
    {
     "data": {
      "image/png": "[encoded data removed]",
      "text/plain": [
       "<Figure size 1000x600 with 1 Axes>"
      ]
     },
     "metadata": {},
     "output_type": "display_data"
    }
   ],
   "source": [
    "# Create the pie chart\n",
    "fig, ax = plt.subplots(figsize=(10, 6))\n",
    "ax = plt.pie(x=df_movies_2[\"rating\"].value_counts()[:5], explode=[0.05, 0, 0, 0, 0],\n",
    "             labels=df_movies_2[\"rating\"].value_counts()[:5].index, colors=sns.color_palette(\"viridis\"), autopct=\"%3.2f%%\", shadow=True)\n",
    "\n",
    "# Add title\n",
    "plt.title(\"Top 5 Movie Ratings Distribution\");"
   ]
  },
  {
   "cell_type": "markdown",
   "id": "c2ae7200-dea6-4d85-9630-a286fd099752",
   "metadata": {},
   "source": [
    "*Most movies are rated as 'R', 'PG-13', or 'PG'*"
   ]
  },
  {
   "cell_type": "markdown",
   "id": "753b555f-f636-4209-ba59-ec749633e7ff",
   "metadata": {},
   "source": [
    "**Find the movie studio companies with the most produced films**"
   ]
  },
  {
   "cell_type": "code",
   "execution_count": 79,
   "id": "4c33e973-aa08-45ac-80b0-538305431a0b",
   "metadata": {},
   "outputs": [
    {
     "data": {
      "text/plain": [
       "company\n",
       "Universal Pictures           377\n",
       "Warner Bros.                 333\n",
       "Columbia Pictures            332\n",
       "Paramount Pictures           320\n",
       "Twentieth Century Fox        240\n",
       "New Line Cinema              173\n",
       "Touchstone Pictures          132\n",
       "Metro-Goldwyn-Mayer (MGM)    125\n",
       "Walt Disney Pictures         123\n",
       "TriStar Pictures              94\n",
       "Name: count, dtype: int64"
      ]
     },
     "execution_count": 79,
     "metadata": {},
     "output_type": "execute_result"
    }
   ],
   "source": [
    "df_movies_2[\"company\"].value_counts()[:10]"
   ]
  },
  {
   "cell_type": "code",
   "execution_count": 80,
   "id": "eb8ee911-57e6-4f8c-8e47-0f23a971c661",
   "metadata": {},
   "outputs": [
    {
     "data": {
      "image/png": "[encoded data removed]",
      "text/plain": [
       "<Figure size 1000x600 with 1 Axes>"
      ]
     },
     "metadata": {},
     "output_type": "display_data"
    }
   ],
   "source": [
    "# Create the bar chart\n",
    "fig, ax = plt.subplots(figsize=(10, 6))\n",
    "ax = sns.barplot(x=df_movies_2[\"company\"].value_counts()[:10].values, \n",
    "                 y=df_movies_2[\"company\"].value_counts()[:10].index, palette=\"BuPu_r_d\")\n",
    "\n",
    "# Set the x axis range\n",
    "ax.set_xlim(xmin=0, xmax=400)\n",
    "\n",
    "# Add title and axis labels\n",
    "ax.set_title(\"Top 10 Movie Studio Companies\")\n",
    "ax.set_xlabel('Number of Movies');"
   ]
  },
  {
   "cell_type": "markdown",
   "id": "4d9b3050-c278-4695-b6cd-d60b8cb18c2b",
   "metadata": {},
   "source": [
    "*Universal, Warner and Columbia are the Top 3 movie production companies*"
   ]
  },
  {
   "cell_type": "markdown",
   "id": "3df26c24-90aa-49b6-96be-7f7830e09be4",
   "metadata": {},
   "source": [
    "**Find the highest-grossing film directors**"
   ]
  },
  {
   "cell_type": "code",
   "execution_count": 83,
   "id": "6ebd9baf-27d8-4340-ace9-f6119b449dd1",
   "metadata": {},
   "outputs": [
    {
     "data": {
      "text/plain": [
       "director\n",
       "Steven Spielberg    21325995229\n",
       "James Cameron       12509158343\n",
       "Peter Jackson       10777573903\n",
       "Michael Bay         10323845012\n",
       "Robert Zemeckis      9896449250\n",
       "Chris Columbus       8800169562\n",
       "Ron Howard           8469680043\n",
       "David Yates          8452351720\n",
       "Tim Burton           8104271039\n",
       "Anthony Russo        7948757156\n",
       "Name: infl_adj_gross, dtype: int64"
      ]
     },
     "execution_count": 83,
     "metadata": {},
     "output_type": "execute_result"
    }
   ],
   "source": [
    "df_movies_2.groupby(\"director\")[\"infl_adj_gross\"].sum().sort_values(ascending=False)[:10]"
   ]
  },
  {
   "cell_type": "code",
   "execution_count": 84,
   "id": "8167a5e9-6cb9-4ffc-9319-6e79c3fb3a3c",
   "metadata": {},
   "outputs": [
    {
     "data": {
      "image/png": "[encoded data removed]",
      "text/plain": [
       "<Figure size 1000x600 with 1 Axes>"
      ]
     },
     "metadata": {},
     "output_type": "display_data"
    }
   ],
   "source": [
    "# Create a function in order to suppress the scientific notation in the y axis\n",
    "def formatter_5(y, pos):\n",
    "    return str(round(y / 1e9, 1))\n",
    "\n",
    "# Create the bar plot\n",
    "fig, ax = plt.subplots(figsize=(10, 6))\n",
    "ax = sns.barplot(x=df_movies_2.groupby(\"director\")[\"infl_adj_gross\"].sum().sort_values(ascending=False)[:10].index,\n",
    "               y=df_movies_2.groupby(\"director\")[\"infl_adj_gross\"].sum().sort_values(ascending=False)[:10].values, palette=\"Greens_r_d\")\n",
    "\n",
    "# Set the y-axis range\n",
    "ax.set_ylim(ymin=-0, ymax=25000000000)\n",
    "\n",
    "# Set the major and minor ticks for the y axis\n",
    "ax.yaxis.set_major_formatter(formatter_5)\n",
    "ax.yaxis.set_minor_formatter(NullFormatter())\n",
    "\n",
    "# Add title and axis labels\n",
    "ax.set_title(\"Top 10 Highest-Grossing Film Directors\")\n",
    "ax.set_ylabel(\"Profit (Billion $)\")\n",
    "ax.set_xlabel(\"Director\")\n",
    "ax.set_xticklabels(labels=df_movies_merged.groupby(\"director\")[\"infl_adj_gross\"].sum().sort_values(ascending=False)[:10].index,\n",
    "                   rotation=45, ha=\"right\");"
   ]
  }
 ],
 "metadata": {
  "kernelspec": {
   "display_name": "data_analysis_env",
   "language": "python",
   "name": "data_analysis_env"
  },
  "language_info": {
   "codemirror_mode": {
    "name": "ipython",
    "version": 3
   },
   "file_extension": ".py",
   "mimetype": "text/x-python",
   "name": "python",
   "nbconvert_exporter": "python",
   "pygments_lexer": "ipython3",
   "version": "3.11.6"
  }
 },
 "nbformat": 4,
 "nbformat_minor": 5
}
